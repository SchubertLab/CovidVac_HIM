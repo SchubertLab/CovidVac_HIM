{
 "cells": [
  {
   "cell_type": "markdown",
   "id": "76a98c57",
   "metadata": {},
   "source": [
    "# Notebook to add Information"
   ]
  },
  {
   "cell_type": "code",
   "execution_count": null,
   "id": "fcaa8980",
   "metadata": {},
   "outputs": [],
   "source": [
    "%load_ext autoreload"
   ]
  },
  {
   "cell_type": "code",
   "execution_count": null,
   "id": "1b84e873",
   "metadata": {},
   "outputs": [],
   "source": [
    "import warnings\n",
    "warnings.simplefilter(action='ignore', category=FutureWarning)\n",
    "\n",
    "import os\n",
    "\n",
    "import scanpy as sc\n",
    "import scirpy as ir\n",
    "import anndata as ann\n",
    "import numpy as np\n",
    "import pandas as pd\n",
    "import seaborn as sb\n",
    "from tqdm import tqdm\n",
    "import math\n",
    "\n",
    "import matplotlib.pyplot as plt\n",
    "import matplotlib.colors as clrs\n",
    "\n",
    "from matplotlib import rcParams"
   ]
  },
  {
   "cell_type": "code",
   "execution_count": null,
   "id": "6be51270",
   "metadata": {},
   "outputs": [],
   "source": [
    "%autoreload 2\n",
    "import sys\n",
    "sys.path.append('..')\n",
    "\n",
    "import utils.annotation as utils_annotation\n",
    "import utils.representation as utils_representation\n",
    "import utils.visualisation as utils_vis"
   ]
  },
  {
   "cell_type": "code",
   "execution_count": null,
   "id": "6eae0ca1",
   "metadata": {},
   "outputs": [],
   "source": [
    "sc.settings.set_figure_params(dpi=150)\n",
    "sc.settings.verbosity = 3\n",
    "sc.set_figure_params(vector_friendly=True, color_map='viridis', transparent=True)\n",
    "sb.set_style('whitegrid')\n",
    "\n",
    "colormap = 'flare'"
   ]
  },
  {
   "cell_type": "markdown",
   "id": "a34520c2",
   "metadata": {},
   "source": [
    "## Collect input data"
   ]
  },
  {
   "cell_type": "code",
   "execution_count": null,
   "id": "a1233530",
   "metadata": {},
   "outputs": [],
   "source": [
    "path_base = '../../data/20231017'\n",
    "path_out = '../../data/mvp'\n",
    "path_annotated_cd4 = f'{path_out}/02_mvp_annotated_cd4.h5ad'\n",
    "path_annotated_cd8 = f'{path_out}/02_mvp_annotated_cd8.h5ad'"
   ]
  },
  {
   "cell_type": "code",
   "execution_count": null,
   "id": "22ceda2d",
   "metadata": {},
   "outputs": [],
   "source": [
    "adatas = []\n",
    "\n",
    "for i in range(1, 4):\n",
    "    adata_tmp = sc.read(f'{path_base}/01_mixed_merged_{i}.h5ad')\n",
    "    adata_tmp.uns['log1p']['base'] = None\n",
    "    adatas.append(adata_tmp)\n",
    "adata = adatas[0].concatenate(adatas[1:])"
   ]
  },
  {
   "cell_type": "code",
   "execution_count": null,
   "id": "9425681f",
   "metadata": {},
   "outputs": [],
   "source": [
    "# Filter only relevant samples\n",
    "mixed_samples = ['run_1_HA1', 'run_1_HA2', 'run_1_HA3', \n",
    "                 'run_1_HA5', 'run_1_HA6', 'run_1_HA7',\n",
    "                 'run_2_HA3', 'run_2_HA8', 'run_3_HA6']\n",
    "adata = adata[adata.obs['pool'].isin(mixed_samples)].copy()\n",
    "adata.obs['pool'].value_counts()"
   ]
  },
  {
   "cell_type": "code",
   "execution_count": null,
   "id": "0c60177e",
   "metadata": {},
   "outputs": [],
   "source": [
    "plot = sb.barplot(data=pd.DataFrame(adata.obs['pool'].value_counts()).reset_index(), x='index', y='pool')\n",
    "_ = plot.set_xticklabels(plot.get_xticklabels(), rotation=90)"
   ]
  },
  {
   "cell_type": "markdown",
   "id": "60a94ff6",
   "metadata": {},
   "source": [
    "## Pool level annotation"
   ]
  },
  {
   "cell_type": "code",
   "execution_count": null,
   "id": "eac6d20a",
   "metadata": {},
   "outputs": [],
   "source": [
    "# Create list of epitopes\n",
    "epitopes = ['LTDEMIAQY', 'QPYRVVVL', 'YLQPRTFLL', 'RLQSLQTYV', \n",
    "            'VLNDILSRL', 'KIADYNYKL', 'YTNSFTRGVY', 'NYNYLYRLF', \n",
    "            'TFEYVSQPFLMDLE', 'ATDSLNNEY', 'CTELKLSDY', \n",
    "            'FLRGRAYGL', 'RAKFKQLL', 'SPRRARSVA', 'FPQSAPHGV', 'IYKTPPIKDF',]\n",
    "adata.uns['epitopes'] = epitopes\n",
    "adata.obsm['epitopes'] = adata.obs[epitopes]"
   ]
  },
  {
   "cell_type": "code",
   "execution_count": null,
   "id": "b2d8af04",
   "metadata": {},
   "outputs": [],
   "source": [
    "pool_2_epitope = {\n",
    "    'run_1_HA1': ['LTDEMIAQY', 'QPYRVVVL', 'TFEYVSQPFLMDLE'], \n",
    "    'run_1_HA2': ['LTDEMIAQY', 'YLQPRTFLL', 'RLQSLQTYV', 'VLNDILSRL', 'KIADYNYKL', 'QPYRVVVL', 'TFEYVSQPFLMDLE'], \n",
    "    'run_1_HA3': ['LTDEMIAQY', 'YTNSFTRGVY', 'NYNYLYRLF', 'QPYRVVVL', 'TFEYVSQPFLMDLE'], \n",
    "    'run_1_HA5': ['ATDSLNNEY', 'CTELKLSDY', 'FLRGRAYGL', 'RAKFKQLL'],\n",
    "    'run_1_HA6': ['ATDSLNNEY', 'CTELKLSDY', 'FLRGRAYGL', 'RAKFKQLL'], \n",
    "    'run_1_HA7': ['ATDSLNNEY', 'CTELKLSDY', 'FLRGRAYGL', 'RAKFKQLL'],\n",
    "    'run_2_HA3': ['LTDEMIAQY', 'SPRRARSVA', 'FPQSAPHGV', 'IYKTPPIKDF', 'TFEYVSQPFLMDLE', 'YTNSFTRGVY'], \n",
    "    'run_2_HA8': ['LTDEMIAQY'], \n",
    "    'run_3_HA6': ['LTDEMIAQY', 'QPYRVVVL', 'TFEYVSQPFLMDLE', 'YTNSFTRGVY'],\n",
    "}"
   ]
  },
  {
   "cell_type": "code",
   "execution_count": null,
   "id": "d0072552",
   "metadata": {},
   "outputs": [],
   "source": [
    "pool_annotation = {\n",
    "    'run_1_HA1': ['MVP', 'd189', '215°'], \n",
    "    'run_1_HA2': ['A07', 'd189', '3°'], \n",
    "    'run_1_HA3': ['A15', 'd189', '3°'], \n",
    "    'run_1_HA5': ['MVP', 'd157', '215°'], \n",
    "    'run_1_HA6': ['A07', np.nan, np.nan], \n",
    "    'run_1_HA7': ['A15', np.nan, np.nan],\n",
    "    'run_2_HA3': ['A04', 'd189', '3°'], \n",
    "    'run_2_HA8': ['A16', 'd189', '3°'], \n",
    "    'run_3_HA6': ['A08', 'd189', '3°']\n",
    "}\n",
    "pool_annotation = pd.DataFrame(pool_annotation, index=['donor', 'time', 'vaccination']).transpose()\n",
    "pool_annotation"
   ]
  },
  {
   "cell_type": "code",
   "execution_count": null,
   "id": "092584e7",
   "metadata": {},
   "outputs": [],
   "source": [
    "for col in pool_annotation.columns:\n",
    "    adata.obs[col] = adata.obs['pool'].map(pool_annotation[col])"
   ]
  },
  {
   "cell_type": "code",
   "execution_count": null,
   "id": "e5054505",
   "metadata": {},
   "outputs": [],
   "source": [
    "plot = sb.barplot(data=pd.DataFrame(adata.obs['donor'].value_counts()).reset_index(), x='index', y='donor')\n",
    "_ = plot.set_xticklabels(plot.get_xticklabels(), rotation=90)"
   ]
  },
  {
   "cell_type": "code",
   "execution_count": null,
   "id": "ac8418d0",
   "metadata": {},
   "outputs": [],
   "source": [
    "plot = sb.barplot(data=pd.DataFrame(adata.obs['vaccination'].value_counts()).reset_index(), x='index', y='vaccination')\n",
    "_ = plot.set_xticklabels(plot.get_xticklabels(), rotation=90)"
   ]
  },
  {
   "cell_type": "markdown",
   "id": "c361d1e1",
   "metadata": {},
   "source": [
    "## Cell Filtering based on Phenotypes"
   ]
  },
  {
   "cell_type": "markdown",
   "id": "398add63",
   "metadata": {},
   "source": [
    "### Initial UMAP and Leiden"
   ]
  },
  {
   "cell_type": "code",
   "execution_count": null,
   "id": "c7d07b86",
   "metadata": {
    "scrolled": true
   },
   "outputs": [],
   "source": [
    "utils_representation.calculate_umap(adata, n_high_var=5000, remove_tcr_genes=True)"
   ]
  },
  {
   "cell_type": "code",
   "execution_count": null,
   "id": "511c5b3a",
   "metadata": {
    "scrolled": true
   },
   "outputs": [],
   "source": [
    "utils_representation.calculate_leiden(adata, resolution=3.0, n_high_var=5000, remove_tcr_genes=True)"
   ]
  },
  {
   "cell_type": "code",
   "execution_count": null,
   "id": "a925544c",
   "metadata": {},
   "outputs": [],
   "source": [
    "sc.pl.umap(adata, color='leiden')\n",
    "sc.pl.umap(adata, color=['donor', 'time', 'vaccination'])\n",
    "sc.pl.umap(adata, color=['sample', 'pool'])"
   ]
  },
  {
   "cell_type": "code",
   "execution_count": null,
   "id": "676547fd",
   "metadata": {},
   "outputs": [],
   "source": [
    "utils_vis.separate_umaps_by_condition(adata, 'leiden', 6, 6, do_int_sort=True)"
   ]
  },
  {
   "cell_type": "markdown",
   "id": "01fc4e60",
   "metadata": {},
   "source": [
    "### Filter clusters based on scores"
   ]
  },
  {
   "cell_type": "code",
   "execution_count": null,
   "id": "1b7a6561",
   "metadata": {},
   "outputs": [],
   "source": [
    "utils_annotation.add_seumois_score(adata)"
   ]
  },
  {
   "cell_type": "code",
   "execution_count": null,
   "id": "9328b924",
   "metadata": {},
   "outputs": [],
   "source": [
    "utils_annotation.add_all_scores(adata)"
   ]
  },
  {
   "cell_type": "code",
   "execution_count": null,
   "id": "27c71197",
   "metadata": {
    "scrolled": true
   },
   "outputs": [],
   "source": [
    "utils_vis.plot_marker_genes(adata)"
   ]
  },
  {
   "cell_type": "code",
   "execution_count": null,
   "id": "e2e4aeb6",
   "metadata": {},
   "outputs": [],
   "source": [
    "sc.pl.umap(adata, color=['has_ir', 'chain_pairing'])"
   ]
  },
  {
   "cell_type": "code",
   "execution_count": null,
   "id": "65d540d3",
   "metadata": {},
   "outputs": [],
   "source": [
    "ir.pl.group_abundance(adata, groupby='leiden', target_col='chain_pairing', normalize=True, fig_kws={'figsize': (12, 5)})"
   ]
  },
  {
   "cell_type": "code",
   "execution_count": null,
   "id": "5b75b104",
   "metadata": {},
   "outputs": [],
   "source": [
    "print('Before Filtering Cluster: ', len(adata))\n",
    "clusters_remove = ['23', '26', '31']\n",
    "adata = adata[~adata.obs['leiden'].isin(clusters_remove)]\n",
    "print('After Filtering Cluster: ', len(adata))"
   ]
  },
  {
   "cell_type": "markdown",
   "id": "ac1e0013",
   "metadata": {},
   "source": [
    "## Clonotypes - Definition über gesamte Daten??? seperieren"
   ]
  },
  {
   "cell_type": "code",
   "execution_count": null,
   "id": "e17a6882",
   "metadata": {},
   "outputs": [],
   "source": [
    "ir.tl.chain_pairing(adata)\n",
    "ir.pp.ir_dist(adata, metric='identity', sequence='aa')\n",
    "ir.tl.define_clonotype_clusters(adata, metric='identity', receptor_arms='all', dual_ir='any', sequence='aa', \n",
    "                                key_added='clone_id')"
   ]
  },
  {
   "cell_type": "code",
   "execution_count": null,
   "id": "b97f789a",
   "metadata": {},
   "outputs": [],
   "source": [
    "adata.obs.loc[adata.obs['IR_VJ_1_junction_aa'].isna(), 'clone_id'] = np.nan\n",
    "adata.obs.loc[adata.obs['IR_VDJ_1_junction_aa'].isna(), 'clone_id'] = np.nan\n",
    "adata.obs['clone_id'] = adata.obs['clone_id'].astype(float)\n",
    "\n",
    "ir.tl.clonal_expansion(adata, target_col='clone_id', key_added='clone_size_clipped', clip_at=3)\n",
    "ir.tl.clonal_expansion(adata, target_col='clone_id', key_added='clone_size', clip_at=len(adata))\n",
    "adata.obs['clone_size'] = adata.obs['clone_size'].astype(float)\n",
    "sc.pl.umap(adata, color=['clone_size_clipped', 'clone_size'])"
   ]
  },
  {
   "cell_type": "markdown",
   "id": "509bc137",
   "metadata": {},
   "source": [
    "### Filter Cells without IR"
   ]
  },
  {
   "cell_type": "code",
   "execution_count": null,
   "id": "3c76e030",
   "metadata": {},
   "outputs": [],
   "source": [
    "print(f'Amount of cells: {len(adata)}')\n",
    "adata = adata[adata.obs['has_ir']=='True'].copy()\n",
    "print(f'Amount of cells with IR: {len(adata)}')"
   ]
  },
  {
   "cell_type": "markdown",
   "id": "7b95d4bc",
   "metadata": {},
   "source": [
    "### Extract clonotype information"
   ]
  },
  {
   "cell_type": "code",
   "execution_count": null,
   "id": "f7b04bfe",
   "metadata": {},
   "outputs": [],
   "source": [
    "utils_annotation.extract_clonotype_information(adata, 'junction_aa', 'clonotype_sequence')\n",
    "utils_annotation.extract_clonotype_information(adata, 'v_call', 'v_genes')\n",
    "utils_annotation.extract_clonotype_information(adata, 'j_call', 'j_genes')"
   ]
  },
  {
   "cell_type": "markdown",
   "id": "7bc5f181",
   "metadata": {},
   "source": [
    "### Assign MAITs\n",
    "\n",
    "Mark Cells with a TCR typical for a MAIT T cell by a reported MAIT sequence and common gene combinations."
   ]
  },
  {
   "cell_type": "code",
   "execution_count": null,
   "id": "9a0e7823",
   "metadata": {},
   "outputs": [],
   "source": [
    "def assign_mait(row, gene_combination=True, cdr3=True):\n",
    "    if gene_combination:\n",
    "        if 'TRAJ33' in str(row['j_genes']) and 'TRAV1-2' in str(row['v_genes']):\n",
    "            if 'TRBV20-1' in str(row['v_genes']) or 'TRBV6' in str(row['v_genes']):\n",
    "                return 'True'\n",
    "    if cdr3:\n",
    "        if 'CAVMDSSYKLIF' in str(row['clonotype_sequence']):\n",
    "            return 'True'\n",
    "    return 'False'"
   ]
  },
  {
   "cell_type": "code",
   "execution_count": null,
   "id": "d260a555",
   "metadata": {},
   "outputs": [],
   "source": [
    "adata.obs['has_mait'] = adata.obs.apply(assign_mait, axis=1)\n",
    "sc.pl.umap(adata, color='has_mait', groups='True')\n",
    "adata.obs['has_mait'].value_counts()"
   ]
  },
  {
   "cell_type": "markdown",
   "id": "378a2a80",
   "metadata": {},
   "source": [
    "## Specificity Annotation"
   ]
  },
  {
   "cell_type": "code",
   "execution_count": null,
   "id": "b7d1d0b1",
   "metadata": {},
   "outputs": [],
   "source": [
    "for ep in adata.uns['epitopes']:\n",
    "    adata.obs[f'log_{ep}'] = np.log(adata.obs[ep]+1)"
   ]
  },
  {
   "cell_type": "code",
   "execution_count": null,
   "id": "b696dae7",
   "metadata": {},
   "outputs": [],
   "source": [
    "rcParams['figure.figsize'] = (6, 6)\n",
    "sc.pl.umap(adata, color=[f'log_{ep}' for ep in adata.uns['epitopes']], ncols=4, size=10)"
   ]
  },
  {
   "cell_type": "code",
   "execution_count": null,
   "id": "697bfd35",
   "metadata": {},
   "outputs": [],
   "source": [
    "sc.pl.umap(adata, color=adata.uns['epitopes'], ncols=4, size=10)"
   ]
  },
  {
   "cell_type": "code",
   "execution_count": null,
   "id": "5655f38e",
   "metadata": {},
   "outputs": [],
   "source": [
    "rcParams['figure.figsize'] = (12, 3)\n",
    "plot = sc.pl.violin(adata, [f'log_{el}' for el in adata.uns['epitopes']], rotation=90, title='All pools', show=False)\n",
    "plt.title('All Samples')\n",
    "plt.show()"
   ]
  },
  {
   "cell_type": "code",
   "execution_count": null,
   "id": "acf75ca9",
   "metadata": {
    "scrolled": true
   },
   "outputs": [],
   "source": [
    "for p in adata.obs['pool'].unique():\n",
    "    sc.pl.violin(adata[adata.obs['pool']==p], [f'log_{el}' for el in adata.uns['epitopes']], rotation=90, show=False)\n",
    "    plt.title(p)\n",
    "    plt.show()"
   ]
  },
  {
   "cell_type": "code",
   "execution_count": null,
   "id": "68a5ead2",
   "metadata": {},
   "outputs": [],
   "source": [
    "utils_vis.distributions_over_columns(adata, adata.uns['epitopes'], 4, 4, x_lim=500, y_lim=0.005)"
   ]
  },
  {
   "cell_type": "code",
   "execution_count": null,
   "id": "9922a86c",
   "metadata": {
    "scrolled": false
   },
   "outputs": [],
   "source": [
    "for p in adata.obs['pool'].unique():\n",
    "    adata_tmp = adata[adata.obs['pool']==p]\n",
    "    cols = pool_2_epitope[p]\n",
    "    utils_vis.distributions_over_columns(adata_tmp, cols, 1, len(cols), x_lim=500, y_lim=0.005, title=p)"
   ]
  },
  {
   "cell_type": "code",
   "execution_count": null,
   "id": "651e6a1b",
   "metadata": {},
   "outputs": [],
   "source": [
    "adata.obs['n_count_dextramer'] = np.sum(adata.obsm['epitopes'], axis=1)\n",
    "adata.obs['n_max_dextramer'] = np.max(adata.obsm['epitopes'], axis=1)\n",
    "adata.obs['max_dextramer'] = np.nanargmax(adata.obsm['epitopes'], axis=1)\n",
    "adata.obs['max_dextramer'] = adata.obs['max_dextramer'].apply(lambda x: adata.uns['epitopes'][x])\n",
    "adata.obs['%_max_dextramer'] = adata.obs['n_max_dextramer'] / adata.obs['n_count_dextramer']"
   ]
  },
  {
   "cell_type": "code",
   "execution_count": null,
   "id": "75b27f49",
   "metadata": {},
   "outputs": [],
   "source": [
    "thresholds_umi = {\n",
    "    'LTDEMIAQY': 30,\n",
    "    'TFEYVSQPFLMDLE': 4,\n",
    "    'CTELKLSDY': 10,\n",
    "    'FLRGRAYGL': 10,\n",
    "    'RAKFKQLL': 10,\n",
    "}\n",
    "threshold_ct_purity = 0.9\n",
    "threshold_umi_purity = 0.0"
   ]
  },
  {
   "cell_type": "code",
   "execution_count": null,
   "id": "0ff3732f",
   "metadata": {},
   "outputs": [],
   "source": [
    "adata.obs['binding_ct'] = None\n",
    "cts_by_epitope = {}\n",
    "for ep, thresh in thresholds_umi.items():\n",
    "    adata.obs[f'has_{ep}'] = (adata.obs[ep]>=thresh).astype(str)\n",
    "    cts_spec = adata[adata.obs[f'has_{ep}']=='True'].obs['clone_id'].unique()\n",
    "    adata_tmp = adata[adata.obs['clone_id'].isin(cts_spec)\n",
    "                      & adata.obs[ep].notna()]\n",
    "    frac_binds = adata_tmp.obs.groupby('clone_id')[f'has_{ep}'].value_counts(normalize=True)\n",
    "    frac_binds = frac_binds.unstack()['True']\n",
    "    cts_spec = frac_binds[frac_binds>=threshold_ct_purity].index.values\n",
    "    adata.obs.loc[adata.obs['clone_id'].isin(cts_spec), 'binding_ct'] = ep\n",
    "    cts_by_epitope[ep] = cts_spec\n",
    "    \n",
    "for ep1, cts1 in cts_by_epitope.items():\n",
    "    for ep2, cts2 in cts_by_epitope.items():\n",
    "        if ep1 == ep2:\n",
    "            continue\n",
    "        overlap = [el for el in cts1 if el in cts2]\n",
    "        adata.obs.loc[adata.obs['clone_id'].isin(overlap), 'binding_ct'] = 'Ambiguous'\n",
    "adata.obs['binding_ct'].value_counts()"
   ]
  },
  {
   "cell_type": "code",
   "execution_count": null,
   "id": "0ba78035",
   "metadata": {},
   "outputs": [],
   "source": [
    "adata.obs['binding_minerva'] = adata.obs[['max_dextramer', '%_max_dextramer', 'n_max_dextramer']\n",
    "                                ].apply(lambda x: x[0] if x[1]>=0.3 and x[2]>=4 else 'No binding', axis=1)\n",
    "\n",
    "adata.obs['binding_10x'] = adata.obs[['max_dextramer', 'n_max_dextramer']\n",
    "                                ].apply(lambda x: x[0] if x[1]>=10 else 'No binding', axis=1)\n",
    "\n",
    "adata.obs['binding_10x_minervina'] = adata.obs[['max_dextramer', '%_max_dextramer', 'n_max_dextramer']\n",
    "                                ].apply(lambda x: x[0] if x[1]>=0.3 and x[2]>=10 else 'No binding', axis=1)"
   ]
  },
  {
   "cell_type": "markdown",
   "id": "bb198df3",
   "metadata": {},
   "source": [
    "def assign_10x(thresh):\n",
    "    adata.obs[f'binding_10x_{thresh}'] = adata.obs[['max_dextramer', 'n_max_dextramer']\n",
    "                                                 ].apply(lambda x: x[0] if x[1]>=thresh else 'None', axis=1)\n",
    "\n",
    "for i in range(1, 31):\n",
    "    assign_10x(i)"
   ]
  },
  {
   "cell_type": "code",
   "execution_count": null,
   "id": "aadc4b1f",
   "metadata": {
    "scrolled": false
   },
   "outputs": [],
   "source": [
    "modes = ['minerva', '10x', '10x_minervina']\n",
    "modes = [f'binding_{el}' for el in modes]\n",
    "\n",
    "for mode in modes:\n",
    "    n_cols = 4\n",
    "    n_rows = 4\n",
    "\n",
    "    fig, axes = plt.subplots(ncols=n_cols, nrows=n_rows, figsize=(n_cols*3, n_rows*3))\n",
    "    axes = axes.reshape(-1)\n",
    "\n",
    "    for i, ep in enumerate(adata.uns['epitopes']):\n",
    "        sc.pl.umap(adata, ax=axes[i], show=False, size=30)\n",
    "        sc.pl.umap(adata[adata.obs[mode]==ep], color=f'log_{ep}', ax=axes[i], show=False, size=30)\n",
    "        axes[i].set_title(ep)\n",
    "    fig.tight_layout()\n",
    "    plt.show()"
   ]
  },
  {
   "cell_type": "code",
   "execution_count": null,
   "id": "d062a2ad",
   "metadata": {
    "scrolled": false
   },
   "outputs": [],
   "source": [
    "rcParams['figure.figsize'] = (6, 6)\n",
    "colors = sb.color_palette('hls', len(adata.uns['epitopes']))+['lightgrey']\n",
    "colors = {epitope: color for epitope, color in zip(adata.uns['epitopes']+['No binding'], colors)}\n",
    "sc.pl.umap(adata, color=modes, palette=colors, ncols=1)"
   ]
  },
  {
   "cell_type": "code",
   "execution_count": null,
   "id": "295ca60a",
   "metadata": {},
   "outputs": [],
   "source": [
    "for mode in modes:\n",
    "    ir.pl.group_abundance(adata, groupby='pool', target_col=mode, normalize=True)\n"
   ]
  },
  {
   "cell_type": "code",
   "execution_count": null,
   "id": "db98f52d",
   "metadata": {
    "scrolled": true
   },
   "outputs": [],
   "source": [
    "amount_bindings_10x = []\n",
    "amount_bindings_min = []\n",
    "amount_bindings_10x_min = []\n",
    "\n",
    "large_clones = adata[adata.obs['clone_size'].astype(float)>=2].obs['clone_id'].unique()\n",
    "for ct in large_clones:\n",
    "    adata_tmp = adata[adata.obs['clone_id']==ct]\n",
    "    amount_10x = len(adata_tmp[adata_tmp.obs['binding_10x']!='No binding'].obs['binding_10x'].unique())\n",
    "    if amount_10x==0:\n",
    "        amount_10x = None\n",
    "    amount_bindings_10x.append(amount_10x)\n",
    "    \n",
    "    amount_min = len(adata_tmp[adata_tmp.obs['binding_minerva']!='No binding'].obs['binding_minerva'].unique())\n",
    "    if amount_min==0:\n",
    "        amount_min = None\n",
    "    amount_bindings_min.append(amount_min)\n",
    "        \n",
    "    amount_10x_min = len(adata_tmp[adata_tmp.obs['binding_10x_minervina']!='No binding'].obs['binding_10x_minervina'].unique())\n",
    "    if amount_10x_min==0:\n",
    "        amount_10x_min = None\n",
    "    amount_bindings_10x_min.append(amount_10x_min)\n",
    "\n",
    "comparision_binding = pd.DataFrame({'clone_id': large_clones,\n",
    "                                    'bindings_minerva': amount_bindings_min,\n",
    "                                    'bindings_10x_minervina': amount_bindings_10x_min,\n",
    "                                    'bindings_10x': amount_bindings_10x})\n",
    "comparision_binding.head()"
   ]
  },
  {
   "cell_type": "code",
   "execution_count": null,
   "id": "a332cc4e",
   "metadata": {},
   "outputs": [],
   "source": [
    "print('Pure clones - 10x: ', (np.sum(comparision_binding['bindings_10x'].values==1) / len(comparision_binding)))\n",
    "print('Pure clones - Minerva: ', (np.sum(comparision_binding['bindings_minerva'].values==1) / len(comparision_binding)))\n",
    "print('Pure clones - 10x Minerva: ', (np.sum(comparision_binding['bindings_10x_minervina'].values==1) / len(comparision_binding)))"
   ]
  },
  {
   "cell_type": "code",
   "execution_count": null,
   "id": "dcbb4f6c",
   "metadata": {
    "scrolled": true
   },
   "outputs": [],
   "source": [
    "import matplotlib.gridspec as gridspec\n",
    "\n",
    "\n",
    "for mode in modes:\n",
    "    n_cols = 4\n",
    "    n_rows = 4\n",
    "\n",
    "    fig = plt.figure(figsize=(n_cols*3, n_rows*3))\n",
    "\n",
    "    gs = fig.add_gridspec(figure=fig, nrows=n_rows, ncols=n_cols, hspace=0.5,)\n",
    "\n",
    "\n",
    "    for i, ep in enumerate(adata.uns['epitopes']):\n",
    "        gs_internal = gridspec.GridSpecFromSubplotSpec(subplot_spec=gs[i], nrows=2, ncols=1)\n",
    "        axes_0 = fig.add_subplot(gs_internal[0])\n",
    "        axes_1 = fig.add_subplot(gs_internal[1])\n",
    "\n",
    "\n",
    "        vmax = max(adata.obs[ep].max()+20, 10)\n",
    "\n",
    "        if np.sum(adata.obs[mode]==ep)>0:\n",
    "            sb.distplot(adata[adata.obs[mode]==ep].obs[ep], ax=axes_0, color='tab:pink', \n",
    "                        hist=True, kde_kws={'fill': True, 'bw_adjust': 1}, axlabel=False, kde=True)\n",
    "            axes_0.set_title(None)\n",
    "            axes_0.set_xscale('symlog')\n",
    "            axes_0.set_xlim((0, vmax))\n",
    "            axes_0.set_xticks([])\n",
    "            axes_0.set_yticks([])\n",
    "            axes_0.set_ylabel(None)\n",
    "        else:\n",
    "            axes_0.set_visible(False)#axis('off')\n",
    "            pass\n",
    "\n",
    "        sb.distplot(adata[adata.obs[mode]!=ep].obs[ep], ax=axes_1, color='tab:olive', \n",
    "                    hist=True, kde_kws={'fill': True}, kde=True)\n",
    "        axes_1.set_yticks([])\n",
    "        axes_1.set_ylabel(None)\n",
    "        #axes[1].set_yticklabels('')\n",
    "        axes_1.set_xscale('symlog')\n",
    "        axes_1.set_xlim((0, vmax))\n",
    "\n",
    "    plt.suptitle(mode)\n",
    "    plt.tight_layout()\n",
    "    plt.show()\n",
    "\n"
   ]
  },
  {
   "cell_type": "markdown",
   "id": "6707c6ec",
   "metadata": {},
   "source": [
    "## CD4-CD8 Assignment"
   ]
  },
  {
   "cell_type": "code",
   "execution_count": null,
   "id": "85661304",
   "metadata": {},
   "outputs": [],
   "source": [
    "def clr(x):\n",
    "    x = x/np.exp(np.log1p(x).sum() / x.shape[0])\n",
    "    x = np.log1p(x)\n",
    "    return x"
   ]
  },
  {
   "cell_type": "code",
   "execution_count": null,
   "id": "85dea073",
   "metadata": {},
   "outputs": [],
   "source": [
    "for c in ['Hu.CD8', 'Hu.CD4_RPA.T4']:\n",
    "    adata.obs.loc[~adata.obs[c].isna(), f'clr_{c}'] = clr(adata[~adata.obs[c].isna()].obs[c].values)"
   ]
  },
  {
   "cell_type": "code",
   "execution_count": null,
   "id": "9307b34d",
   "metadata": {},
   "outputs": [],
   "source": [
    "sc.pl.umap(adata, color=['CD8A', 'CD8B', 'CD4'])"
   ]
  },
  {
   "cell_type": "code",
   "execution_count": null,
   "id": "20aeffab",
   "metadata": {},
   "outputs": [],
   "source": [
    "sc.pl.violin(adata, keys=['CD8A', 'CD8B', 'CD4'], show=False)\n",
    "plt.axhline(0.65, c='black')\n",
    "plt.show()"
   ]
  },
  {
   "cell_type": "code",
   "execution_count": null,
   "id": "bac8d19c",
   "metadata": {},
   "outputs": [],
   "source": [
    "sc.pl.umap(adata, color=['clr_Hu.CD8', 'clr_Hu.CD4_RPA.T4'])"
   ]
  },
  {
   "cell_type": "code",
   "execution_count": null,
   "id": "40fb5376",
   "metadata": {},
   "outputs": [],
   "source": [
    "ax = sc.pl.violin(adata, keys=['clr_Hu.CD8', 'clr_Hu.CD4_RPA.T4'], show=False)\n",
    "plt.axhline(0.75, c='blue')\n",
    "plt.axhline(.95, c='orange')\n",
    "plt.show()\n",
    "sc.pl.violin(adata, keys=['Hu.CD8', 'Hu.CD4_RPA.T4'])"
   ]
  },
  {
   "cell_type": "code",
   "execution_count": null,
   "id": "7c1e6627",
   "metadata": {},
   "outputs": [],
   "source": [
    "thresholds = {\n",
    "    'CD8A': 0.65, \n",
    "    'CD8B': 0.65, \n",
    "    'clr_Hu.CD8': 0.75,\n",
    "    'clr_Hu.CD4_RPA.T4': 0.95,\n",
    "    'CD4': 0.65,\n",
    "}\n",
    "\n",
    "for n, t in thresholds.items():\n",
    "    if n.startswith('clr'):\n",
    "        vals = adata.obs[n]\n",
    "    else:\n",
    "        vals = adata[:, n].X.A\n",
    "    adata.obs[f'has_{n}'] = vals > t\n",
    "    print(f'{n}: {np.sum(adata.obs[f\"has_{n}\"])}')\n",
    "adata.obs[f'has_citeNaN'] = adata.obs['Hu.CD8'].isna()\n",
    "print(f'citeNaN: {np.sum(adata.obs[f\"has_citeNaN\"])}')"
   ]
  },
  {
   "cell_type": "code",
   "execution_count": null,
   "id": "14f7f43e",
   "metadata": {},
   "outputs": [],
   "source": [
    "cols = list(thresholds.keys()) + ['citeNaN']\n",
    "df_overlap = pd.DataFrame(index=cols, columns=cols, dtype=float)\n",
    "for i in cols:\n",
    "    for j in cols:\n",
    "        counts = np.sum(adata.obs[f'has_{i}'] & adata.obs[f'has_{j}'])\n",
    "        df_overlap.loc[i, j] = float(counts)\n",
    "sb.heatmap(df_overlap, annot=True, fmt='.4g')"
   ]
  },
  {
   "cell_type": "code",
   "execution_count": null,
   "id": "cdd68b43",
   "metadata": {},
   "outputs": [],
   "source": [
    "adata.obs['has_CD8_joined'] = adata.obs['has_CD8A'] | adata.obs['has_CD8B'] | adata.obs['has_clr_Hu.CD8']\n",
    "adata.obs['has_CD4_joined'] = adata.obs['has_CD4'] | adata.obs['has_clr_Hu.CD4_RPA.T4']\n",
    "adata.obs['has_NaN_joined'] = ~adata.obs['has_CD8_joined'] & ~adata.obs['has_CD4_joined']\n",
    "adata.obs['has_CD4+8_joined'] = adata.obs['has_CD8_joined'] & adata.obs['has_CD4_joined']"
   ]
  },
  {
   "cell_type": "code",
   "execution_count": null,
   "id": "9c2a6a77",
   "metadata": {
    "scrolled": false
   },
   "outputs": [],
   "source": [
    "rcParams['figure.figsize'] = (6, 6)\n",
    "cols = ['CD8_joined', 'CD4_joined', 'NaN_joined']\n",
    "df_overlap = pd.DataFrame(index=cols, columns=cols, dtype=float)\n",
    "for i in cols:\n",
    "    for j in cols:\n",
    "        counts = np.sum(adata.obs[f'has_{i}'] & adata.obs[f'has_{j}'])\n",
    "        df_overlap.loc[i, j] = float(counts)\n",
    "sb.heatmap(df_overlap, annot=True, fmt='.4g')"
   ]
  },
  {
   "cell_type": "code",
   "execution_count": null,
   "id": "c6d7e324",
   "metadata": {},
   "outputs": [],
   "source": [
    "rcParams['figure.figsize'] = (6, 3)\n",
    "sc.pl.violin(adata[adata.obs['has_NaN_joined']], keys=['clr_Hu.CD8', 'clr_Hu.CD4_RPA.T4'])\n",
    "sc.pl.violin(adata[adata.obs['has_NaN_joined']], keys=['CD8A', 'CD8B', 'CD4'])"
   ]
  },
  {
   "cell_type": "code",
   "execution_count": null,
   "id": "db507101",
   "metadata": {},
   "outputs": [],
   "source": [
    "rcParams['figure.figsize'] = (6, 3)\n",
    "sc.pl.violin(adata[adata.obs['has_CD4+8_joined']], keys=['clr_Hu.CD8', 'clr_Hu.CD4_RPA.T4'])\n",
    "sc.pl.violin(adata[adata.obs['has_CD4+8_joined']], keys=['CD8A', 'CD8B', 'CD4'])"
   ]
  },
  {
   "cell_type": "code",
   "execution_count": null,
   "id": "398ce8e0",
   "metadata": {},
   "outputs": [],
   "source": [
    "rcParams['figure.figsize'] = (6, 6)\n",
    "adata.obs['has_NaN_joined'] = adata.obs['has_NaN_joined'].astype(str)\n",
    "adata.obs['has_CD4+8_joined'] = adata.obs['has_CD4+8_joined'].astype(str)\n",
    "sc.pl.umap(adata, color='has_NaN_joined', groups='True', s=30)\n",
    "sc.pl.umap(adata, color='has_CD4+8_joined', groups='True', s=30)"
   ]
  },
  {
   "cell_type": "code",
   "execution_count": null,
   "id": "7d2ec17f",
   "metadata": {},
   "outputs": [],
   "source": [
    "adata.obs['celltype'] = 'Ambiguous'\n",
    "adata.obs.loc[adata.obs['has_CD8_joined'] & ~adata.obs['has_CD4_joined'], 'celltype'] = 'CD8'\n",
    "adata.obs.loc[adata.obs['has_CD4_joined'] & ~adata.obs['has_CD8_joined'], 'celltype'] = 'CD4'\n",
    "sc.pl.umap(adata, color='celltype')\n",
    "adata.obs['celltype'].value_counts()"
   ]
  },
  {
   "cell_type": "code",
   "execution_count": null,
   "id": "59e667b8",
   "metadata": {
    "scrolled": true
   },
   "outputs": [],
   "source": [
    "adata_tmp = adata[adata.obs['has_CD4+8_joined']=='True']\n",
    "print('CD4+CD8\\n', adata_tmp.obs['binding_10x'].value_counts())\n",
    "\n",
    "print(len(adata_tmp[adata_tmp.obs['clone_id'].isna()]))\n",
    "\n",
    "cts_tmp = adata_tmp.obs['clone_id'].unique()\n",
    "cts_tmp = cts_tmp[~np.isnan(cts_tmp)]\n",
    "print(len(cts_tmp))\n",
    "adata_overlap = adata[adata.obs['clone_id'].isin(cts_tmp)]\n",
    "print('\\n', adata_overlap.obs['celltype'].value_counts())\n",
    "\n",
    "adata_overlap.obs[['clone_id', 'celltype']].value_counts().head(10)"
   ]
  },
  {
   "cell_type": "code",
   "execution_count": null,
   "id": "f8af5054",
   "metadata": {},
   "outputs": [],
   "source": [
    "adata_tmp = adata[adata.obs['has_NaN_joined']=='True']\n",
    "print('CD4+CD8\\n', adata_tmp.obs['binding_10x'].value_counts())\n",
    "\n",
    "print(len(adata_tmp[adata_tmp.obs['clone_id'].isna()]))\n",
    "\n",
    "cts_tmp = adata_tmp.obs['clone_id'].unique()\n",
    "cts_tmp = cts_tmp[~np.isnan(cts_tmp)]\n",
    "print(len(cts_tmp))\n",
    "adata_overlap = adata[adata.obs['clone_id'].isin(cts_tmp)]\n",
    "print('\\n', adata_overlap.obs['celltype'].value_counts())\n",
    "\n",
    "adata_overlap.obs[['clone_id', 'celltype']].value_counts().head(10)"
   ]
  },
  {
   "cell_type": "code",
   "execution_count": null,
   "id": "5f967f33",
   "metadata": {},
   "outputs": [],
   "source": [
    "ir.pl.group_abundance(adata, groupby='leiden', target_col='celltype', normalize=True)\n",
    "ir.pl.group_abundance(adata, groupby='donor', target_col='celltype', normalize=False)\n",
    "ir.pl.group_abundance(adata, groupby='pool', target_col='celltype', normalize=True)#, fig_kws={'figsize': (12, 5)})"
   ]
  },
  {
   "cell_type": "markdown",
   "id": "5f9e942e",
   "metadata": {},
   "source": [
    "## Separate CD4-CD8 datasets"
   ]
  },
  {
   "cell_type": "code",
   "execution_count": null,
   "id": "eba2b249",
   "metadata": {},
   "outputs": [],
   "source": [
    "adata_cd4 = adata[adata.obs['celltype']=='CD4'].copy()\n",
    "adata_cd8 = adata[adata.obs['celltype']=='CD8'].copy()\n",
    "\n",
    "adata_cd4.uns['celltype'] = 'CD4'\n",
    "adata_cd8.uns['celltype'] = 'CD8'\n",
    "\n",
    "adata_full = adata.copy()\n",
    "del adata"
   ]
  },
  {
   "cell_type": "code",
   "execution_count": null,
   "id": "e77657cf",
   "metadata": {},
   "outputs": [],
   "source": [
    "cts_cd4 = adata_cd4.obs['clone_id'].unique()\n",
    "cts_cd4 = cts_cd4[~np.isnan(cts_cd4)]\n",
    "cts_cd8 = adata_cd8.obs['clone_id'].unique()\n",
    "cts_cd8 = cts_cd8[~np.isnan(cts_cd8)]\n",
    "cts_overlap = [el for el in cts_cd8 if el in cts_cd4]\n",
    "print(cts_overlap)\n",
    "adata_full[adata_full.obs['clone_id'].isin(cts_overlap)].obs['celltype'].value_counts()"
   ]
  },
  {
   "cell_type": "markdown",
   "id": "ad2f2772",
   "metadata": {},
   "source": [
    "## UMAPs II"
   ]
  },
  {
   "cell_type": "markdown",
   "id": "b9ffdd86",
   "metadata": {},
   "source": [
    "### Recalculate UMAPs"
   ]
  },
  {
   "cell_type": "code",
   "execution_count": null,
   "id": "2e2c7759",
   "metadata": {
    "scrolled": true
   },
   "outputs": [],
   "source": [
    "for adata in [adata_cd4, adata_cd8]:\n",
    "    utils_representation.calculate_umap(adata, n_high_var=5000, remove_tcr_genes=True)\n",
    "    utils_representation.calculate_leiden(adata, resolution=0.5, n_high_var=5000, remove_tcr_genes=True)"
   ]
  },
  {
   "cell_type": "code",
   "execution_count": null,
   "id": "e5337105",
   "metadata": {
    "scrolled": true
   },
   "outputs": [],
   "source": [
    "for adata in [adata_cd4, adata_cd8]:\n",
    "    sc.pl.umap(adata, color=['leiden', 'sample', 'donor', 'pool'], ncols=2, show=False)\n",
    "    sc.pl.umap(adata, color=['binding_10x'], ncols=2, show=False)\n",
    "    plt.suptitle(adata.uns['celltype'])\n",
    "    plt.tight_layout()\n",
    "    plt.show()"
   ]
  },
  {
   "cell_type": "code",
   "execution_count": null,
   "id": "39aa8f67",
   "metadata": {
    "scrolled": true
   },
   "outputs": [],
   "source": [
    "for adata in [adata_cd4, adata_cd8]:\n",
    "    utils_vis.separate_umaps_by_condition(adata, 'leiden', 2, 3, do_int_sort=True, title=adata.uns['celltype'])"
   ]
  },
  {
   "cell_type": "markdown",
   "id": "fda7f1bd",
   "metadata": {},
   "source": [
    "### Clonal Expansion"
   ]
  },
  {
   "cell_type": "code",
   "execution_count": null,
   "id": "877b238f",
   "metadata": {
    "scrolled": false
   },
   "outputs": [],
   "source": [
    "for adata in [adata_cd4, adata_cd8]:\n",
    "    ir.tl.clonal_expansion(adata, target_col='clone_id', key_added='clone_size_ct_clipped', clip_at=3)\n",
    "    ir.tl.clonal_expansion(adata, target_col='clone_id', clip_at=len(adata), key_added='clone_size_ct')\n",
    "    ir.tl.clonal_expansion(adata, target_col='clone_id', clip_at=len(adata), expanded_in='donor',\n",
    "                           key_added='clone_size_donor_ct')\n",
    "    ir.tl.clonal_expansion(adata, target_col='clone_id', clip_at=len(adata), expanded_in='pool',\n",
    "                           key_added='clone_size_pool_ct')\n",
    "\n",
    "    adata.obs['clone_size_ct'] = adata.obs['clone_size_ct'].astype(float)\n",
    "    adata.obs['clone_size_donor_ct'] = adata.obs['clone_size_donor_ct'].astype(float)\n",
    "    adata.obs['clone_size_pool_ct'] = adata.obs['clone_size_pool_ct'].astype(float)\n",
    "    adata.obs['clone_id'] = adata.obs['clone_id'].astype(str)\n",
    "\n",
    "    ax = sc.pl.umap(adata, color=['clone_size_clipped', 'clone_size', 'clone_size_ct',\n",
    "                             'clone_size_donor_ct', 'clone_size_pool_ct'], ncols=3, show=False)\n",
    "    plt.suptitle(adata.uns['celltype'])\n",
    "    plt.tight_layout()\n",
    "    plt.show()"
   ]
  },
  {
   "cell_type": "markdown",
   "id": "8fa0e7f4",
   "metadata": {},
   "source": [
    "## DEG\n",
    "- General DEG over all leidens"
   ]
  },
  {
   "cell_type": "code",
   "execution_count": null,
   "id": "adfc9b12",
   "metadata": {},
   "outputs": [],
   "source": [
    "def deg_over_condition(condition, adata):\n",
    "    adata_tmp = utils_representation.filter_tcr_genes(adata)\n",
    "    adata_tmp = utils_representation.filter_high_var(adata_tmp, 5000)\n",
    "    sc.tl.rank_genes_groups(adata_tmp, groupby=condition, n_genes=20)\n",
    "    sc.pl.rank_genes_groups(adata_tmp, groubpy=condition, show=False)\n",
    "    plt.suptitle(adata.uns['celltype'])\n",
    "    plt.tight_layout()\n",
    "    plt.show()\n",
    "    #dict_deg = {}\n",
    "    #for cluster in adata_tmp.obs[condition].unique():\n",
    "    #    names = adata_tmp.uns['rank_genes_groups']['names'][cluster].tolist()\n",
    "    #    scores = adata_tmp.uns['rank_genes_groups']['scores'][cluster].tolist()\n",
    "    #    dict_deg[cluster] = list(zip(names, scores))\n",
    "\n",
    "    #df_degs = pd.DataFrame(dict_deg)\n",
    "    #df_degs = df_degs[sorted(df_degs.columns.tolist())]\n",
    "    #df_degs.columns = [f'leiden_{el}' for el in df_degs.columns]\n",
    "    #df_degs.to_csv(f'../../results/mvp/deg_by_{condition}_cluster.csv')\n",
    "    adata.uns[f'rank_genes_groups_{condition}'] = adata_tmp.uns['rank_genes_groups']"
   ]
  },
  {
   "cell_type": "code",
   "execution_count": null,
   "id": "415fcb06",
   "metadata": {
    "scrolled": false
   },
   "outputs": [],
   "source": [
    "for adata in [adata_cd4, adata_cd8]:\n",
    "    deg_over_condition('leiden', adata)"
   ]
  },
  {
   "cell_type": "code",
   "execution_count": null,
   "id": "a0160c0f",
   "metadata": {},
   "outputs": [],
   "source": [
    "for adata in [adata_cd4, adata_cd8]:\n",
    "    deg_over_condition('donor', adata)"
   ]
  },
  {
   "cell_type": "markdown",
   "id": "2bfa6e55",
   "metadata": {},
   "source": [
    "## PseudoTime"
   ]
  },
  {
   "cell_type": "code",
   "execution_count": null,
   "id": "d4e7d48e",
   "metadata": {
    "scrolled": true
   },
   "outputs": [],
   "source": [
    "adata_tmp_cd4 = adata_cd4[~adata_cd4.obs['leiden'].isin(['3'])]\n",
    "adata_tmp_cd8 = adata_cd8[~adata_cd8.obs['leiden'].isin(['5'])]\n",
    "for adata in [adata_tmp_cd4, adata_tmp_cd8]:\n",
    "    utils_representation.calculate_diffmap(adata, n_high_var=5000, remove_tcr_genes=True)"
   ]
  },
  {
   "cell_type": "code",
   "execution_count": null,
   "id": "9026726c",
   "metadata": {},
   "outputs": [],
   "source": [
    "for adata in [adata_tmp_cd4, adata_tmp_cd8]:\n",
    "    nrows = 3\n",
    "    ncols = 5\n",
    "    fig, axes = plt.subplots(ncols=ncols, nrows=nrows, figsize=(ncols * 3, nrows * 3))\n",
    "    axes = axes.reshape(-1)\n",
    "\n",
    "    for i, ax in zip(range(adata.obsm['X_diffmap'].shape[1]), axes):\n",
    "        root_ixs = adata.obsm['X_diffmap'][:, i].argmin()\n",
    "        root_umap = adata.obsm['X_umap'][root_ixs]\n",
    "\n",
    "        sc.pl.umap(adata, show=False, title=str(i), ax=ax)\n",
    "        ax.plot(root_umap[0], root_umap[1],  marker='o', markersize=5, color=\"red\")\n",
    "    plt.suptitle(adata.uns['celltype'])\n",
    "    fig.tight_layout()\n",
    "    plt.show()"
   ]
  },
  {
   "cell_type": "code",
   "execution_count": null,
   "id": "308cdc0d",
   "metadata": {
    "scrolled": true
   },
   "outputs": [],
   "source": [
    "for adata, root_nr in [(adata_tmp_cd4, 1), (adata_tmp_cd8, 8)]:\n",
    "    root_ixs = adata.obsm['X_diffmap'][:, root_nr].argmin()\n",
    "    adata.uns['iroot'] = root_ixs\n",
    "    utils_representation.calculate_dpt(adata, n_high_var=5000, remove_tcr_genes=True)\n",
    "\n",
    "adata_cd4.obs['dpt_pseudotime'] = adata_tmp_cd4.obs['dpt_pseudotime']\n",
    "adata_cd8.obs['dpt_pseudotime'] = adata_tmp_cd8.obs['dpt_pseudotime']"
   ]
  },
  {
   "cell_type": "code",
   "execution_count": null,
   "id": "2dd4a093",
   "metadata": {
    "scrolled": false
   },
   "outputs": [],
   "source": [
    "for adata in [adata_cd4, adata_cd8]:\n",
    "    rcParams['figure.figsize'] = (6, 6)\n",
    "    sc.pl.umap(adata, color=['leiden', 'dpt_pseudotime'], show=False)\n",
    "    plt.suptitle(adata.uns['celltype'])\n",
    "    plt.tight_layout()\n",
    "    plt.show()"
   ]
  },
  {
   "cell_type": "markdown",
   "id": "69988a12",
   "metadata": {},
   "source": [
    "## T cell score"
   ]
  },
  {
   "cell_type": "code",
   "execution_count": null,
   "id": "84cc3ee0",
   "metadata": {
    "scrolled": true
   },
   "outputs": [],
   "source": [
    "for adata in [adata_cd4, adata_cd8]:\n",
    "    utils_annotation.add_tc_scores(adata)"
   ]
  },
  {
   "cell_type": "markdown",
   "id": "eb6de19a",
   "metadata": {},
   "source": [
    "## CiteSeq"
   ]
  },
  {
   "cell_type": "code",
   "execution_count": null,
   "id": "52c86451",
   "metadata": {},
   "outputs": [],
   "source": [
    "cite_ids = ['Hu.CD101', 'Hu.CD103', 'Hu.CD105_43A3', 'Hu.CD107a', 'Hu.CD112', 'Hu.CD119', \n",
    "            'Hu.CD11a', 'Hu.CD11b', 'Hu.CD11c', 'Hu.CD122', 'Hu.CD123', 'Hu.CD124', \n",
    "            'Hu.CD127', 'Hu.CD13', 'Hu.CD134', 'Hu.CD137', 'Hu.CD141', 'Hu.CD146', \n",
    "            'Hu.CD14_M5E2', 'Hu.CD152', 'Hu.CD154', 'Hu.CD155', 'Hu.CD158', 'Hu.CD158b', \n",
    "            'Hu.CD158e1', 'Hu.CD16', 'Hu.CD161', 'Hu.CD163', 'Hu.CD169', 'Hu.CD18', 'Hu.CD183', \n",
    "            'Hu.CD185', 'Hu.CD19', 'Hu.CD194', 'Hu.CD195', 'Hu.CD196', 'Hu.CD1c', 'Hu.CD1d', \n",
    "            'Hu.CD2', 'Hu.CD20_2H7', 'Hu.CD21', 'Hu.CD22', 'Hu.CD223', 'Hu.CD224', 'Hu.CD226_11A8', \n",
    "            'Hu.CD23', 'Hu.CD24', 'Hu.CD244', 'Hu.CD25', 'Hu.CD26', 'Hu.CD267', 'Hu.CD268', 'Hu.CD27', \n",
    "            'Hu.CD270', 'Hu.CD272', 'Hu.CD274', 'Hu.CD279', 'Hu.CD28', 'Hu.CD29', 'Hu.CD303', \n",
    "            'Hu.CD31', 'Hu.CD314', 'Hu.CD319', 'Hu.CD32', 'Hu.CD328', 'Hu.CD33', 'Hu.CD335',\n",
    "            'Hu.CD35', 'Hu.CD352', 'Hu.CD36', 'Hu.CD38_HIT2', 'Hu.CD39', 'Hu.CD3_UCHT1', 'Hu.CD40', \n",
    "            'Hu.CD41', 'Hu.CD42b', 'Hu.CD45RA', 'Hu.CD45RO', 'Hu.CD45_HI30', 'Hu.CD47', 'Hu.CD48', \n",
    "            'Hu.CD49a', 'Hu.CD49b', 'Hu.CD49d', 'Hu.CD4_RPA.T4', 'Hu.CD5', 'Hu.CD52', 'Hu.CD54', \n",
    "            'Hu.CD56', 'Hu.CD57', 'Hu.CD58', 'Hu.CD62L', 'Hu.CD62P', 'Hu.CD64', 'Hu.CD69', 'Hu.CD7', \n",
    "            'Hu.CD71', 'Hu.CD73', 'Hu.CD79b', 'Hu.CD8', 'Hu.CD81', 'Hu.CD82', 'Hu.CD83', 'Hu.CD85j', \n",
    "            'Hu.CD86', 'Hu.CD88', 'Hu.CD94', 'Hu.CD95', 'Hu.CD99', 'Hu.CLEC12A', 'Hu.CX3CR1', 'Hu.FceRIa', \n",
    "            'Hu.GPR56', 'Hu.HLA.ABC', 'Hu.HLA.DR', 'Hu.HLA.E', 'Hu.Ig.LightChain.k', 'Hu.Ig.LightChain.l', \n",
    "            'Hu.IgD', 'Hu.IgM', 'Hu.KLRG1', 'Hu.LOX.1', 'Hu.TCR.AB', 'Hu.TCR.Va7.2', 'Hu.TCR.Vd2', 'Hu.TIGIT', \n",
    "            'HuMs.CD44', 'HuMs.CD49f', 'HuMs.integrin.b7', 'HuMsRt.CD278', 'Isotype_HTK888', 'Isotype_MOPC.173', \n",
    "            'Isotype_MOPC.21', 'Isotype_MPC.11', 'Isotype_RTK2071', 'Isotype_RTK2758', 'Isotype_RTK4530']\n",
    "customs_cite_ids = ['CCR7', 'CD62L', 'CXCR3', 'CD45RA']"
   ]
  },
  {
   "cell_type": "code",
   "execution_count": null,
   "id": "6891aba0",
   "metadata": {},
   "outputs": [],
   "source": [
    "for adata in [adata_cd4, adata_cd8]:\n",
    "    adata.uns['cite_ids'] = cite_ids\n",
    "    adata.uns['custom_cite_ids'] = customs_cite_ids\n",
    "    for c in cite_ids + customs_cite_ids:\n",
    "        adata.obs.loc[~adata.obs[c].isna(), f'clr_{c}'] = clr(adata[~adata.obs[c].isna()].obs[c].values)\n",
    "    adata_cite = ann.AnnData(X=adata.obs[[f'clr_{el}' for el in cite_ids]\n",
    "                                        ].values, obs=adata.obs[['leiden'] + cite_ids])\n",
    "    adata_cite.var_names = cite_ids\n",
    "    adata_cite = adata_cite[~adata_cite.obs[cite_ids[0]].isna()]\n",
    "\n",
    "    sc.tl.rank_genes_groups(adata_cite, groupby='leiden', n_genes=20)\n",
    "    sc.pl.rank_genes_groups(adata_cite, groubpy='leiden', show=False)\n",
    "    plt.suptitle(adata.uns['celltype'])\n",
    "    plt.tight_layout()\n",
    "    plt.show()\n",
    "    adata.uns['rank_genes_groups_leiden_cite'] = adata_cite.uns['rank_genes_groups']"
   ]
  },
  {
   "cell_type": "code",
   "execution_count": null,
   "id": "fe885926",
   "metadata": {},
   "outputs": [],
   "source": [
    "cocktail_samples = ['run_1_HA1', \n",
    "                    'run_1_HA2', \n",
    "                    'run_1_HA3']"
   ]
  },
  {
   "cell_type": "code",
   "execution_count": null,
   "id": "dab9718d",
   "metadata": {},
   "outputs": [],
   "source": [
    "for cock, cust in [('Hu.CD62L', 'CD62L'), ('Hu.CD183', 'CXCR3'), ('Hu.CD45RA', 'CD45RA')]:\n",
    "    df_1 = adata_full[(~adata_full.obs[cock].isna())].obs[[cock]].copy()\n",
    "    df_1['in_cocktail'] = 'True'\n",
    "    df_1 = df_1.rename(columns={cock: cust})\n",
    "    df_2 = adata[(~adata.obs[cust].isna())].obs[[cust]].copy()\n",
    "    df_2['in_cocktail'] = 'False'\n",
    "    df_full = pd.concat([df_1, df_2])\n",
    "    df_full[cust] = np.log(df_full[cust]+1)\n",
    "    sb.violinplot(data=df_full, x='in_cocktail', y=cust)\n",
    "    plt.show()"
   ]
  },
  {
   "cell_type": "code",
   "execution_count": null,
   "id": "813f7c0f",
   "metadata": {},
   "outputs": [],
   "source": [
    "adata_cd4.obs['pool'].value_counts()"
   ]
  },
  {
   "cell_type": "markdown",
   "id": "079af8e9",
   "metadata": {},
   "source": [
    "## Save all"
   ]
  },
  {
   "cell_type": "code",
   "execution_count": null,
   "id": "85ebeebc",
   "metadata": {},
   "outputs": [],
   "source": [
    "for adata in [adata_cd4, adata_cd8]:\n",
    "    for col in ['j_genes_dict', 'v_genes_dict', 'clonotype_sequence_dict']:\n",
    "        _ = adata.uns.pop(col)"
   ]
  },
  {
   "cell_type": "code",
   "execution_count": null,
   "id": "fabd0fce",
   "metadata": {},
   "outputs": [],
   "source": [
    "sc.write(adata=adata_cd4, filename=path_annotated_cd4)\n",
    "sc.write(adata=adata_cd8, filename=path_annotated_cd8)"
   ]
  }
 ],
 "metadata": {
  "kernelspec": {
   "display_name": "Python [conda env:covidVac]",
   "language": "python",
   "name": "conda-env-covidVac-py"
  },
  "language_info": {
   "codemirror_mode": {
    "name": "ipython",
    "version": 3
   },
   "file_extension": ".py",
   "mimetype": "text/x-python",
   "name": "python",
   "nbconvert_exporter": "python",
   "pygments_lexer": "ipython3",
   "version": "3.7.1"
  }
 },
 "nbformat": 4,
 "nbformat_minor": 5
}
