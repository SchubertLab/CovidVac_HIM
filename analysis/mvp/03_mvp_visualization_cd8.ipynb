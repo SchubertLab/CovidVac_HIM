{
 "cells": [
  {
   "cell_type": "code",
   "execution_count": null,
   "id": "b5a3cde8",
   "metadata": {},
   "outputs": [],
   "source": [
    "import warnings\n",
    "warnings.simplefilter(action='ignore', category=FutureWarning)\n",
    "\n",
    "import os\n",
    "\n",
    "import scanpy as sc\n",
    "import scirpy as ir\n",
    "import skbio\n",
    "import anndata as ann\n",
    "import numpy as np\n",
    "import pandas as pd\n",
    "import seaborn as sb\n",
    "from tqdm import tqdm\n",
    "import math\n",
    "from scipy import stats, sparse\n",
    "\n",
    "import matplotlib as mpl\n",
    "import matplotlib.pyplot as plt\n",
    "import matplotlib.colors as clrs\n",
    "\n",
    "from matplotlib import rcParams\n",
    "import matplotlib.gridspec as gridspec"
   ]
  },
  {
   "cell_type": "code",
   "execution_count": null,
   "id": "63b6f41a",
   "metadata": {},
   "outputs": [],
   "source": [
    "from skbio.stats.composition import clr"
   ]
  },
  {
   "cell_type": "code",
   "execution_count": null,
   "id": "a2b24426",
   "metadata": {},
   "outputs": [],
   "source": [
    "import sys\n",
    "sys.path.append('..')\n",
    "import utils.visualisation as utils_vis"
   ]
  },
  {
   "cell_type": "code",
   "execution_count": null,
   "id": "43dd3d10",
   "metadata": {},
   "outputs": [],
   "source": [
    "path_figs = '../../figures/mvp/'\n",
    "\n",
    "sc.settings.set_figure_params(dpi=600)\n",
    "sc._settings.ScanpyConfig(figdir=path_figs)\n",
    "sc.settings.verbosity = 3\n",
    "sc.set_figure_params(vector_friendly=True, color_map='viridis', transparent=True)\n",
    "sb.set_style('whitegrid')\n",
    "sc._settings.settings._vector_friendly=False\n",
    "\n",
    "colormap = 'flare'\n",
    "binding_mode = 'binding_ct'\n",
    "dpi = 600"
   ]
  },
  {
   "cell_type": "code",
   "execution_count": null,
   "id": "c64de35a",
   "metadata": {},
   "outputs": [],
   "source": [
    "adata = sc.read('../../data/mvp/02_mvp_annotated_cd8.h5ad')"
   ]
  },
  {
   "cell_type": "code",
   "execution_count": null,
   "id": "533fff36",
   "metadata": {},
   "outputs": [],
   "source": [
    "path_figs = f'{path_figs}/{adata.uns[\"celltype\"]}'"
   ]
  },
  {
   "cell_type": "code",
   "execution_count": null,
   "id": "ed3d9c7f",
   "metadata": {},
   "outputs": [],
   "source": [
    "epitopes = adata.uns['epitopes']\n",
    "cite_ids = adata.uns['cite_ids']\n",
    "custom_cite_ids = adata.uns['custom_cite_ids']\n",
    "cite_ids_full = cite_ids.tolist() + custom_cite_ids.tolist()"
   ]
  },
  {
   "cell_type": "markdown",
   "id": "15879574",
   "metadata": {},
   "source": [
    "## Dotplots"
   ]
  },
  {
   "cell_type": "code",
   "execution_count": null,
   "id": "deea37ff",
   "metadata": {
    "scrolled": true
   },
   "outputs": [],
   "source": [
    "markers_6b = ['CD4', 'CD8A', 'CD8B', 'TBX21', 'EOMES', 'IL7R', \n",
    "              'CCR6', 'ITGA1', 'JAML', 'PDCD1', 'LAG3', 'TIGIT', \n",
    "              'KLRB1', 'KLRD1', 'IFNG', 'GZMA', 'GZMB', 'GZMH', \n",
    "              'GZMK', 'PRF1', 'NKG7', 'IL32', 'CCL3', 'CCL4', 'CCL5']\n",
    "\n",
    "plot = sc.pl.dotplot(adata, markers_6b, show=True, groupby='leiden', title='By Leiden')\n",
    "plot = sc.pl.dotplot(adata, markers_6b, show=True, groupby='binding_10x', title='By Binding 10x')\n",
    "plot = sc.pl.dotplot(adata, markers_6b, show=True, groupby='donor', title='By Donor')"
   ]
  },
  {
   "cell_type": "code",
   "execution_count": null,
   "id": "3945baaf",
   "metadata": {},
   "outputs": [],
   "source": [
    "selected_markers = ['SELL', 'TCF7', 'LTB', 'IL7R', 'GZMK',\n",
    "                    'KLRG1', 'CCL5', 'NKG7', 'GZMH', 'GZMB', 'PRF1', 'IFNG', 'IL2', \n",
    "                    'TNF', 'MKI67', 'CX3CR1', \n",
    "                    'KLRB1', 'TRAV1-2', 'KIR3DL1', 'PDCD1', \n",
    "                    'CTLA4', 'LAG3', 'TIGIT', 'TOX']\n",
    "plot = sc.pl.dotplot(adata, selected_markers, show=True, groupby='leiden', use_raw=False)"
   ]
  },
  {
   "cell_type": "markdown",
   "id": "53d3e92c",
   "metadata": {},
   "source": [
    "## Leiden Distribution"
   ]
  },
  {
   "cell_type": "code",
   "execution_count": null,
   "id": "aad6ffe4",
   "metadata": {},
   "outputs": [],
   "source": [
    "ir.pl.group_abundance(adata, groupby='leiden', target_col='binding_10x')\n",
    "ir.pl.group_abundance(adata, groupby='leiden', target_col='binding_10x', normalize=True)"
   ]
  },
  {
   "cell_type": "markdown",
   "id": "953b6dd2",
   "metadata": {},
   "source": [
    "## Clone purity\n",
    "To assess purity and consistency of Dex labeling per clonotype, display Dex assignment per clone as in Minervina et al. Fig. 2b; perhaps first focus on clones with > 5 cells."
   ]
  },
  {
   "cell_type": "code",
   "execution_count": null,
   "id": "57e217a8",
   "metadata": {},
   "outputs": [],
   "source": [
    "colors = dict(zip([el for el in adata.uns['epitopes'] if el in adata.obs['binding_10x'].values], \n",
    "                  adata.uns['binding_10x_colors']))\n",
    "colors_epitope = dict(zip(adata.obs['donor'].unique(), adata.uns['donor_colors']))\n",
    "colors.update(colors_epitope)\n",
    "colors['No binding'] = 'tab:gray'"
   ]
  },
  {
   "cell_type": "code",
   "execution_count": null,
   "id": "2a94754a",
   "metadata": {
    "scrolled": true
   },
   "outputs": [],
   "source": [
    "rcParams['figure.figsize'] = (5, 30)\n",
    "adata_tmp = adata[adata.obs['clone_id']!='nan']\n",
    "adata_tmp = adata_tmp[adata_tmp.obs['clone_id_size']>5].copy()\n",
    "order = adata_tmp.obs['clone_id'].value_counts().index.tolist()\n",
    "\n",
    "for col in ['binding_10x', 'donor']:\n",
    "    adata_tmp.obs[col] = adata_tmp.obs[col].replace(['None'], 'No binding')\n",
    "    df_tmp = adata_tmp.obs[['clone_id', col]]\n",
    "    df_tmp = df_tmp.groupby('clone_id')[col].value_counts(normalize=True).unstack()\n",
    "    df_tmp = df_tmp.reindex(reversed(order))\n",
    "    \n",
    "    ax = df_tmp.plot(kind='barh', stacked=True, color=colors)\n",
    "    ax.legend(bbox_to_anchor=(1., 0.75))\n",
    "    ax.grid(False)\n",
    "    ax.set_xticks([])\n",
    "    ax.spines['top'].set_visible(False)\n",
    "    ax.spines['right'].set_visible(False)\n",
    "    ax.spines['bottom'].set_visible(False)\n",
    "    ax.spines['left'].set_visible(False)\n",
    "    ax.tick_params(axis='y', labelsize='x-small')\n",
    "    ax.set_title(col)\n",
    "    plt.show()"
   ]
  },
  {
   "cell_type": "code",
   "execution_count": null,
   "id": "53bd6bd9",
   "metadata": {
    "scrolled": false
   },
   "outputs": [],
   "source": [
    "rcParams['figure.figsize'] = (30, 10)\n",
    "\n",
    "for donor in adata.obs['donor'].unique():\n",
    "    adata_tmp = adata[adata.obs['clone_id']!='nan']\n",
    "    adata_tmp = adata_tmp[adata_tmp.obs['donor']==donor]\n",
    "    adata_tmp = adata_tmp[adata_tmp.obs['clone_size_donor_ct']>1]\n",
    "    if len(adata_tmp) == 0:\n",
    "        continue\n",
    "    order = adata_tmp.obs['clone_id'].value_counts().index.tolist()\n",
    "\n",
    "    df_tmp = adata_tmp.obs[['clone_id', 'binding_10x']]\n",
    "    df_tmp = df_tmp.groupby('clone_id')['binding_10x'].value_counts(normalize=False).unstack()\n",
    "    df_tmp = df_tmp.reindex(order)\n",
    "\n",
    "    specific_cts = adata_tmp[adata_tmp.obs['binding_10x']!='No binding'].obs['clone_id'].unique()\n",
    "    df_tmp = df_tmp[df_tmp.index.isin(specific_cts)].copy()\n",
    "    \n",
    "    if len(df_tmp) == 0:\n",
    "        continue\n",
    "\n",
    "    ax = df_tmp.plot(kind='bar', stacked=True, color=colors)\n",
    "    ax.legend(bbox_to_anchor=(1., 0.75))\n",
    "    ax.grid(False)\n",
    "    #ax.set_xticks([])\n",
    "    ax.spines['top'].set_visible(False)\n",
    "    ax.spines['right'].set_visible(False)\n",
    "    #ax.spines['bottom'].set_visible(False)\n",
    "    ax.spines['left'].set_visible(False)\n",
    "    ax.tick_params(axis='y', labelsize='x-small')\n",
    "    ax.set_title(donor)\n",
    "    plt.savefig(f'{path_figs}/spec/ct_expansion_10x_{donor}.pdf', bbox_inches='tight', dpi=300,)\n",
    "    plt.show()"
   ]
  },
  {
   "cell_type": "code",
   "execution_count": null,
   "id": "610a5d87",
   "metadata": {},
   "outputs": [],
   "source": [
    "rcParams['figure.figsize'] = (30, 10)\n",
    "\n",
    "for donor in adata.obs['donor'].unique():\n",
    "    adata_tmp = adata[adata.obs['clone_id']!='nan']\n",
    "    adata_tmp = adata_tmp[adata_tmp.obs['donor']==donor]\n",
    "    adata_tmp = adata_tmp[adata_tmp.obs['clone_size_donor_ct']>1]\n",
    "    if len(adata_tmp) == 0:\n",
    "        continue\n",
    "    order = adata_tmp.obs['clone_id'].value_counts().index.tolist()\n",
    "\n",
    "    df_tmp = adata_tmp.obs[['clone_id', 'binding_10x']]\n",
    "    df_tmp = df_tmp.groupby('clone_id')['binding_10x'].value_counts(normalize=True).unstack()\n",
    "    df_tmp = df_tmp.reindex(order)\n",
    "\n",
    "    specific_cts = adata_tmp[adata_tmp.obs['binding_10x']!='No binding'].obs['clone_id'].unique()\n",
    "    df_tmp = df_tmp[df_tmp.index.isin(specific_cts)].copy()\n",
    "    \n",
    "    if len(df_tmp) == 0:\n",
    "        continue\n",
    "\n",
    "    ax = df_tmp.plot(kind='bar', stacked=True, color=colors)\n",
    "    ax.legend(bbox_to_anchor=(1., 0.75))\n",
    "    ax.grid(False)\n",
    "    #ax.set_xticks([])\n",
    "    ax.spines['top'].set_visible(False)\n",
    "    ax.spines['right'].set_visible(False)\n",
    "    #ax.spines['bottom'].set_visible(False)\n",
    "    ax.spines['left'].set_visible(False)\n",
    "    ax.tick_params(axis='y', labelsize='x-small')\n",
    "    ax.set_title(donor)\n",
    "    plt.savefig(f'{path_figs}/spec/ct_expansion_10x_{donor}_norm.pdf', bbox_inches='tight', dpi=300,)\n",
    "    plt.show()"
   ]
  },
  {
   "cell_type": "code",
   "execution_count": null,
   "id": "a378cd81",
   "metadata": {
    "scrolled": true
   },
   "outputs": [],
   "source": [
    "rcParams['figure.figsize'] = (30, 10)\n",
    "\n",
    "for donor in adata.obs['donor'].unique():\n",
    "    adata_tmp = adata[adata.obs['clone_id']!='nan']\n",
    "    adata_tmp = adata_tmp[adata_tmp.obs['donor']==donor]\n",
    "    adata_tmp = adata_tmp[adata_tmp.obs['clone_size_donor_ct']>1]\n",
    "    if len(adata_tmp) == 0:\n",
    "        continue\n",
    "    order = adata_tmp.obs['clone_id'].value_counts().index.tolist()\n",
    "\n",
    "    df_tmp = adata_tmp.obs[['clone_id', 'binding_10x']]\n",
    "    df_tmp = df_tmp.groupby('clone_id')['binding_10x'].value_counts().unstack()\n",
    "    df_tmp = df_tmp / (adata.obs['donor']==donor).sum()\n",
    "    df_tmp = df_tmp.reindex(order)\n",
    "\n",
    "    specific_cts = adata_tmp[adata_tmp.obs['binding_10x']!='No binding'].obs['clone_id'].unique()\n",
    "    df_tmp = df_tmp[df_tmp.index.isin(specific_cts)].copy()\n",
    "    \n",
    "    if len(df_tmp) == 0:\n",
    "        continue\n",
    "\n",
    "    ax = df_tmp.plot(kind='bar', stacked=True, color=colors)\n",
    "    ax.legend(bbox_to_anchor=(1., 0.75))\n",
    "    ax.grid(False)\n",
    "    #ax.set_xticks([])\n",
    "    ax.spines['top'].set_visible(False)\n",
    "    ax.spines['right'].set_visible(False)\n",
    "    #ax.spines['bottom'].set_visible(False)\n",
    "    ax.spines['left'].set_visible(False)\n",
    "    ax.tick_params(axis='y', labelsize='x-small')\n",
    "    ax.set_title(donor)\n",
    "    plt.savefig(f'{path_figs}/spec/ct_expansion_10x_{donor}_over_all_cts.pdf', bbox_inches='tight', dpi=300,)\n",
    "    plt.show()"
   ]
  },
  {
   "cell_type": "code",
   "execution_count": null,
   "id": "4ad7a8a4",
   "metadata": {
    "scrolled": true
   },
   "outputs": [],
   "source": [
    "for thresh in [0, 1, 5]:\n",
    "    for donor in adata.obs['donor'].unique():\n",
    "        adata_tmp = adata[adata.obs['clone_id']!='nan']\n",
    "        adata_tmp = adata_tmp[adata_tmp.obs['donor']==donor]\n",
    "        adata_tmp = adata_tmp[adata_tmp.obs['clone_size_donor_ct']>thresh]\n",
    "        if len(adata_tmp) == 0:\n",
    "            continue\n",
    "        order = adata_tmp.obs['clone_id'].value_counts().index.tolist()\n",
    "\n",
    "        df_tmp = adata_tmp.obs[['clone_id', 'n_max_dextramer', 'binding_10x']]\n",
    "        specific_cts = adata_tmp[adata_tmp.obs['binding_10x']!='No binding'].obs['clone_id'].unique()\n",
    "\n",
    "        rcParams['figure.figsize'] = (1.5*len(specific_cts), 8)\n",
    "\n",
    "        df_tmp = df_tmp[df_tmp['clone_id'].isin(specific_cts)].copy()\n",
    "\n",
    "        order = [el for el in order if el in specific_cts]\n",
    "        if len(df_tmp) == 0:\n",
    "            continue\n",
    "        ax = sb.swarmplot(data=df_tmp, x='clone_id', y='n_max_dextramer', order=order, \n",
    "                          hue='binding_10x', palette=colors, s=5)\n",
    "        ax.set_title(donor)\n",
    "        plt.savefig(f'{path_figs}/spec/ct_expansion_10x_{donor}_umis_{thresh}.pdf', bbox_inches='tight', dpi=300,)\n",
    "        plt.show()"
   ]
  },
  {
   "cell_type": "code",
   "execution_count": null,
   "id": "3816125f",
   "metadata": {},
   "outputs": [],
   "source": [
    "ncols = 3\n",
    "nrows = 2\n",
    "fig, axes = plt.subplots(nrows=nrows, ncols=ncols, figsize=(ncols * 3, nrows * 3))\n",
    "axes = axes.reshape(-1)\n",
    "\n",
    "\n",
    "vmax = adata.obs[epitopes].max().max()\n",
    "for i, donor in enumerate(adata.obs['donor'].value_counts().index):\n",
    "    adata_tmp = adata[adata.obs['donor']==donor]\n",
    "    adata_tmp = adata_tmp[adata_tmp.obs['binding_10x']!='No binding']\n",
    "    df_counts = pd.DataFrame(adata_tmp.obs.groupby('binding_10x')['clone_id'].nunique())\n",
    "    df_counts = df_counts.sort_values('clone_id')\n",
    "    df_counts = df_counts.reset_index()\n",
    "    sb.barplot(data=df_counts, y='clone_id', x='binding_10x', order=reversed(df_counts['binding_10x']), \n",
    "               ax=axes[i], palette=colors)\n",
    "    axes[i].set_xlabel(donor)\n",
    "    axes[i].set_xticklabels([el.get_text()[:3] for el in axes[i].get_xticklabels()], rotation=90)\n",
    "    axes[i].set_ylabel('Unique CTs')\n",
    "    axes[i].set_yscale('log')\n",
    "#axes[1].legend()\n",
    "plt.tight_layout()\n",
    "plt.show()\n"
   ]
  },
  {
   "cell_type": "code",
   "execution_count": null,
   "id": "b6e517a6",
   "metadata": {},
   "outputs": [],
   "source": [
    "for donor in adata.obs['donor'].value_counts().index:\n",
    "    print(donor)\n",
    "    adata_tmp = adata[adata.obs['binding_10x']!='No binding']\n",
    "    adata_tmp = adata_tmp[adata_tmp.obs['donor']==donor]\n",
    "    print(adata_tmp.obs.groupby('binding_10x')['clone_id'].nunique())"
   ]
  },
  {
   "cell_type": "code",
   "execution_count": null,
   "id": "e0e26733",
   "metadata": {},
   "outputs": [],
   "source": [
    "adata_tmp = adata[adata.obs['binding_10x']!='No binding']\n",
    "print(adata_tmp.obs.groupby('binding_10x')['clone_id'].nunique())"
   ]
  },
  {
   "cell_type": "code",
   "execution_count": null,
   "id": "d4202802",
   "metadata": {},
   "outputs": [],
   "source": [
    "df_tmp = adata[adata.obs['binding_10x']!='No binding'].obs\n",
    "df_tmp = df_tmp[['donor', 'clone_id', 'clone_size_donor_ct']].drop_duplicates()\n",
    "df_tmp.groupby('donor')['clone_size_donor_ct'].mean()"
   ]
  },
  {
   "cell_type": "code",
   "execution_count": null,
   "id": "a02e01af",
   "metadata": {},
   "outputs": [],
   "source": [
    "ir.pl.group_abundance(adata, groupby='donor', target_col='binding_ct', normalize=False)\n",
    "for d in adata.obs['donor'].value_counts().index:\n",
    "    adata_tmp = adata[adata.obs['donor']==d]\n",
    "    print(d)\n",
    "    print(adata_tmp.obs['binding_ct'].value_counts())"
   ]
  },
  {
   "cell_type": "code",
   "execution_count": null,
   "id": "599479bb",
   "metadata": {},
   "outputs": [],
   "source": [
    "adata.obs['has_ltd'] = adata.obs['binding_10x'].apply(lambda x: 'LTD' if x=='LTDEMIAQY' else np.nan)\n",
    "adata.obs['is_mvp'] = adata.obs['donor'].apply(lambda x: 'MVP' if x=='MVP' else 'Other')"
   ]
  },
  {
   "cell_type": "code",
   "execution_count": null,
   "id": "6d8e27af",
   "metadata": {},
   "outputs": [],
   "source": [
    "colors_tmp = {\n",
    "    'No LTDs': 'gray',\n",
    "    'Other': 'tab:blue',\n",
    "    'MVP': 'tab:orange',\n",
    "}\n",
    "df_ltds = adata.obs.groupby(['leiden', 'has_ltd'])['is_mvp'].value_counts().unstack()\n",
    "df_ltds.index = [el[0] for el in df_ltds.index]\n",
    "df_ltds.index.name = 'leiden'\n",
    "df_ltds['No LTDs'] = adata.obs['leiden'].value_counts()\n",
    "df_ltds['No LTDs'] = df_ltds['No LTDs'] - df_ltds['MVP'] - df_ltds['Other']\n",
    "df_ltds.plot(kind='bar', stacked=True, color=colors_tmp)"
   ]
  },
  {
   "cell_type": "code",
   "execution_count": null,
   "id": "d26669ea",
   "metadata": {},
   "outputs": [],
   "source": [
    "df_ltds_norm = df_ltds.div(df_ltds.sum(axis=1), axis=0)\n",
    "df_ltds_norm.plot(kind='bar', stacked=True, color=colors_tmp)"
   ]
  },
  {
   "cell_type": "markdown",
   "id": "0ce7f8c6",
   "metadata": {},
   "source": [
    "## Binding Modes"
   ]
  },
  {
   "cell_type": "markdown",
   "id": "5f392e3f",
   "metadata": {},
   "source": [
    "Generate histograms for all epitope specificities with log scales of UMI counts on x-axis and number of cells on y-axis label cells that are defined as positive in a different color than the negative cells. Include positive and negative cells in the same plot (not on top of each other). Do this once for all time points pooled and once leaving out the S2 time point since the latter one has higher UMI counts than the other time points. The range of the x-axis should always be the same to better compare expression levels between different epitope specificities."
   ]
  },
  {
   "cell_type": "code",
   "execution_count": null,
   "id": "6a3d7b17",
   "metadata": {},
   "outputs": [],
   "source": [
    "def plot_binding_distributions(adata, binding_mode, title):\n",
    "    ncols = 4\n",
    "    nrows = 4\n",
    "    fig, axes = plt.subplots(nrows=nrows, ncols=ncols, figsize=(ncols * 3, nrows * 3))\n",
    "    axes = axes.reshape(-1)\n",
    "\n",
    "\n",
    "    vmax = adata.obs[epitopes].max().max()\n",
    "    for i, c in enumerate(adata.uns['epitopes']):\n",
    "        if np.sum(adata.obs[binding_mode] == c) > 0:\n",
    "            ax2 = axes[i].twinx()\n",
    "            sb.histplot(adata[adata.obs[binding_mode] == c].obs[c], ax=ax2, color='tab:green', stat='percent', kde=True)\n",
    "            ax2.set_yticks([])\n",
    "            ax2.set_yticklabels('')\n",
    "            ax2.set_ylabel(None)\n",
    "\n",
    "        sb.histplot(adata[adata.obs[binding_mode] != c].obs[c], ax=axes[i], color='tab:red', stat='percent', kde=True)\n",
    "        axes[i].set_yticks([])\n",
    "        axes[i].set_yticklabels([])\n",
    "        axes[i].set_ylabel(None)\n",
    "        axes[i].set_title(c)\n",
    "        axes[i].set_xscale('symlog')\n",
    "        axes[i].set_xlim((0, vmax))\n",
    "        axes[i].set_xlabel(None)\n",
    "        \n",
    "        axes[i].grid(False, axis='y', which='both')\n",
    "\n",
    "    plt.suptitle(title)\n",
    "    plt.tight_layout()\n",
    "    plt.show()\n",
    "    \n",
    "for mode in ['binding_ct', 'binding_10x']:\n",
    "    plot_binding_distributions(adata, mode, title=f'{mode} - Full Data')\n",
    "    #adata_tmp = adata[adata.obs['sample']!='S2']\n",
    "    #plot_binding_distributions(adata_tmp, mode, title=f'{mode} - wo S2')"
   ]
  },
  {
   "cell_type": "markdown",
   "id": "cf813913",
   "metadata": {},
   "source": [
    "### Purity vs UMI"
   ]
  },
  {
   "cell_type": "code",
   "execution_count": null,
   "id": "370b4733",
   "metadata": {},
   "outputs": [],
   "source": [
    "bindings = adata.obs['binding_10x'].astype(str).value_counts().index.tolist()\n",
    "bindings.remove('No binding')\n",
    "nrows = 4\n",
    "ncols = 4\n",
    "\n",
    "\n",
    "fig, axes = plt.subplots(nrows=nrows, ncols=ncols, figsize=(ncols * 3, nrows * 3))\n",
    "axes = axes.reshape(-1)\n",
    "\n",
    "for i, ep in enumerate(bindings):\n",
    "    cts_bind = adata[adata.obs['binding_10x']==ep].obs['clone_id'].unique().tolist()\n",
    "    if 'nan' in cts_bind:\n",
    "        cts_bind.remove('nan')\n",
    "    df_tmp = pd.DataFrame(index=cts_bind, columns=['Purity', 'UMI'])\n",
    "    for ct in cts_bind:\n",
    "        df_ct = adata[adata.obs['clone_id']==ct].obs\n",
    "        umi = df_ct[ep].mean()\n",
    "        df_tmp.loc[ct, 'UMI'] = umi\n",
    "        purity = np.sum(df_ct['binding_10x']==ep) / len(df_ct)\n",
    "        df_tmp.loc[ct, 'Purity'] = purity\n",
    "    \n",
    "    sb.scatterplot(data=df_tmp, x='Purity', y='UMI', ax=axes[i])\n",
    "\n",
    "    if len(df_tmp) > 1:\n",
    "        corr, pval = stats.pearsonr(df_tmp['UMI'].values, df_tmp['Purity'].values)\n",
    "    else:\n",
    "        corr, pval = np.nan, np.nan\n",
    "    axes[i].set_title(f'{ep}\\ncorr: {corr:.2f}, pval: {pval:.2f}')\n",
    "\n",
    "plt.suptitle('UMI vs Purity')\n",
    "plt.tight_layout()\n",
    "plt.show()"
   ]
  },
  {
   "cell_type": "code",
   "execution_count": null,
   "id": "f0740a8d",
   "metadata": {},
   "outputs": [],
   "source": [
    "bindings = adata.obs['binding_10x'].astype(str).value_counts().index.tolist()\n",
    "bindings.remove('No binding')\n",
    "nrows = 3\n",
    "ncols = 4\n",
    "\n",
    "\n",
    "fig, axes = plt.subplots(nrows=nrows, ncols=ncols, figsize=(ncols * 3, nrows * 3))\n",
    "axes = axes.reshape(-1)\n",
    "\n",
    "for i, ep in enumerate(bindings):\n",
    "    cts_bind = adata[(adata.obs['binding_10x']==ep)\n",
    "                     & (adata.obs['clone_size_ct']>1)\n",
    "                    ].obs['clone_id'].unique().tolist()\n",
    "    if 'nan' in cts_bind:\n",
    "        cts_bind.remove('nan')\n",
    "    df_tmp = pd.DataFrame(index=cts_bind, columns=['Purity', 'UMI', 'Expansion'])\n",
    "    for ct in cts_bind:\n",
    "        df_ct = adata[adata.obs['clone_id']==ct].obs\n",
    "        umi = df_ct[ep].mean()\n",
    "        df_tmp.loc[ct, 'UMI'] = umi\n",
    "        purity = np.sum(df_ct['binding_10x']==ep) / len(df_ct)\n",
    "        df_tmp.loc[ct, 'Purity'] = purity\n",
    "        exp = df_ct['clone_size_ct']\n",
    "        df_tmp.loc[ct, 'Expansion'] = df_ct.iloc[0]['clone_size_ct']\n",
    "    \n",
    "    sb.scatterplot(data=df_tmp, x='Purity', y='UMI', ax=axes[i])\n",
    "\n",
    "    if len(df_tmp) > 1:\n",
    "        corr, pval = stats.pearsonr(df_tmp['UMI'].values, df_tmp['Purity'].values)\n",
    "    else:\n",
    "        corr, pval = np.nan, np.nan\n",
    "    axes[i].set_title(f'{ep}\\ncorr: {corr:.2f}, pval: {pval:.2f}')\n",
    "\n",
    "plt.suptitle('UMI vs Purity')\n",
    "plt.tight_layout()\n",
    "plt.show()"
   ]
  },
  {
   "cell_type": "code",
   "execution_count": null,
   "id": "2373225c",
   "metadata": {
    "scrolled": true
   },
   "outputs": [],
   "source": [
    "for donor in adata.obs['donor'].unique():\n",
    "    adata_donor = adata[adata.obs['donor']==donor]\n",
    "    #axes = axes.reshape(-1)\n",
    "    \n",
    "    eps = adata_donor.obs[binding_mode].astype(str).value_counts().index.tolist()\n",
    "    eps = [el.split('+') for el in eps if (el!='nan') and (el!='No binding')]\n",
    "    eps = list(set([el for sublist in eps for el in sublist]))\n",
    "    \n",
    "    ncols = len(eps)\n",
    "    fig, axes = plt.subplots(nrows=1, ncols=ncols, figsize=(ncols * 5, 1 * 5))\n",
    "    if type(axes) != np.ndarray:\n",
    "        axes = [axes]\n",
    "    for i, ep in enumerate(eps):\n",
    "\n",
    "        df_ep = adata_donor[adata_donor.obs[binding_mode].astype(str).str.contains(ep)].obs.copy()\n",
    "        df_ep['Purity_umi'] = df_ep[ep] / df_ep['n_count_dextramer']\n",
    "        df_ep = df_ep[['Purity_umi', ep, 'binding_ct', 'clone_id']]\n",
    "        df_ep = df_ep[df_ep[ep].notna()]\n",
    "\n",
    "        if len(df_ep) == 0:\n",
    "            continue\n",
    "        \n",
    "        sb.scatterplot(data=df_ep, x=ep, y='Purity_umi', ax=axes[i], hue='binding_ct')\n",
    "\n",
    "        if len(df_ep) > 1:\n",
    "            corr, pval = stats.pearsonr(df_ep[ep].values, df_ep['Purity_umi'].values)\n",
    "        else:\n",
    "            corr, pval = np.nan, np.nan\n",
    "        axes[i].set_title(f'{ep}\\ncorr: {corr:.2f}, pval: {pval:.2f}')\n",
    "        axes[i].set_xlabel('UMI')\n",
    "\n",
    "    plt.suptitle(f'{donor} - UMI conts vs UMI Purity')\n",
    "    plt.tight_layout()\n",
    "    plt.show()"
   ]
  },
  {
   "cell_type": "code",
   "execution_count": null,
   "id": "24b2a8fc",
   "metadata": {},
   "outputs": [],
   "source": [
    "adata[adata.obs['binding_ct'].notna()].obs.groupby('donor')['clone_id'].nunique()"
   ]
  },
  {
   "cell_type": "markdown",
   "id": "bd5e1515",
   "metadata": {},
   "source": [
    "## UMAPs"
   ]
  },
  {
   "cell_type": "markdown",
   "id": "f812e694",
   "metadata": {},
   "source": [
    "### Selected Genes"
   ]
  },
  {
   "cell_type": "code",
   "execution_count": null,
   "id": "556d9274",
   "metadata": {},
   "outputs": [],
   "source": [
    "rcParams['figure.figsize'] = (5, 5)\n",
    "sc.pl.violin(adata, keys=['JUNB', 'CD69'], groupby='leiden')\n",
    "sc.pl.violin(adata, keys=['CD8 Cytotoxic_score', 'CD8 Cytokine_score'], groupby='leiden')"
   ]
  },
  {
   "cell_type": "code",
   "execution_count": null,
   "id": "3de29821",
   "metadata": {
    "scrolled": true
   },
   "outputs": [],
   "source": [
    "sc.pl.umap(adata, color=['JUNB', 'CD69'], cmap=colormap)\n",
    "sc.pl.umap(adata, color=['CD8 Cytotoxic_score', 'CD8 Cytokine_score'], cmap=colormap)\n",
    "sc.pl.umap(adata, color='MKI67', cmap=colormap)\n",
    "sc.pl.umap(adata, color='SP140', cmap=colormap)\n",
    "sc.pl.umap(adata, color='LAG3', cmap=colormap)\n",
    "sc.pl.umap(adata, color='TIGIT', cmap=colormap)\n",
    "sc.pl.umap(adata, color='ifn_seumois', cmap=colormap)"
   ]
  },
  {
   "cell_type": "code",
   "execution_count": null,
   "id": "4f1ad505",
   "metadata": {
    "scrolled": true
   },
   "outputs": [],
   "source": [
    "for c in cite_ids_full:\n",
    "    fig, axes = plt.subplots(nrows=1, ncols=2, figsize=(1 * 8, 1 * 4))\n",
    "    sc.pl.umap(adata, color=c, ax=axes[0], show=False)\n",
    "    sc.pl.umap(adata, color=f'clr_{c}', ax=axes[1], show=False)\n",
    "    \n",
    "    plt.tight_layout()\n",
    "    plt.savefig(f'{path_figs}/citeSeq/{c}.png', bbox_inches='tight', dpi=300,)\n",
    "    plt.show()"
   ]
  },
  {
   "cell_type": "markdown",
   "id": "4618e509",
   "metadata": {},
   "source": [
    "## SARS-CoV vs Others"
   ]
  },
  {
   "cell_type": "code",
   "execution_count": null,
   "id": "c6a4354e",
   "metadata": {},
   "outputs": [],
   "source": [
    "epitopes_covid = ['LTDEMIAQY' , 'QPYRVVVL', 'TFEYVSQPFLMDLE', 'YLQPRTFLL',\n",
    "                  'RLQSLQTYV', 'VLNDILSRL', 'KIADYNYKL', 'YTNSFTRGVY', 'NYNYLYRLF',\n",
    "                  'SPRRARSVA', 'FPQSAPHGV', 'IYKTPPIKDF']\n",
    "epitopes_others = ['ATDSLNNEY', 'CTELKLSDY', 'FLRGRAYGL', 'RAKFKQLL', ]\n",
    "adata.obs['specificity_group'] = np.nan\n",
    "adata.obs.loc[adata.obs['binding_10x'].isin(epitopes_covid), 'specificity_group'] = 'Sars-CoV'\n",
    "adata.obs.loc[adata.obs['binding_10x'].isin(epitopes_others), 'specificity_group'] = 'Other'\n",
    "adata.obs['specificity_group'].value_counts(dropna=False)"
   ]
  },
  {
   "cell_type": "code",
   "execution_count": null,
   "id": "f521c06f",
   "metadata": {},
   "outputs": [],
   "source": [
    "sc.pl.umap(adata, color='specificity_group', s=20)\n",
    "sc.pl.umap(adata, color='binding_10x', s=20)"
   ]
  },
  {
   "cell_type": "code",
   "execution_count": null,
   "id": "72ab8dfc",
   "metadata": {},
   "outputs": [],
   "source": [
    "ncols = 4\n",
    "nrows = 4\n",
    "fig, axes = plt.subplots(nrows=nrows, ncols=ncols, figsize=(ncols * 3, nrows * 3))\n",
    "axes = axes.reshape(-1)\n",
    "\n",
    "\n",
    "vmax = adata.obs[epitopes].max().max()\n",
    "for i, c in enumerate(adata.uns['epitopes']):\n",
    "    sc.pl.umap(adata, ax=axes[i], show=False)\n",
    "    adata_tmp = adata[adata.obs['binding_10x']==c] \n",
    "    if len(adata_tmp) > 0:\n",
    "        sc.pl.umap(adata_tmp, color='binding_10x', s=40,\n",
    "                   ax=axes[i], show=False)\n",
    "    axes[i].legend().remove()\n",
    "    axes[i].set_ylabel(None)\n",
    "    axes[i].set_title(c)\n",
    "    axes[i].set_xlabel(None)\n",
    "\n",
    "plt.tight_layout()\n",
    "plt.savefig(f'{path_figs}/specificity_10x.pdf', \n",
    "            bbox_inches='tight', dpi=300,)\n",
    "plt.show()"
   ]
  },
  {
   "cell_type": "code",
   "execution_count": null,
   "id": "34b8f08f",
   "metadata": {},
   "outputs": [],
   "source": [
    "ncols = 2\n",
    "nrows = 3\n",
    "fig, axes = plt.subplots(nrows=nrows, ncols=ncols, figsize=(ncols * 3.5, nrows * 3))\n",
    "axes = axes.reshape(-1)\n",
    "\n",
    "\n",
    "vmax = adata.obs[epitopes].max().max()\n",
    "for i, c in enumerate(adata.obs['donor'].value_counts().index):\n",
    "    sc.pl.umap(adata, ax=axes[i], show=False)\n",
    "    adata_tmp = adata[adata.obs['donor']==c] \n",
    "    adata_tmp = adata_tmp[adata_tmp.obs['binding_10x']!='No binding']\n",
    "    if len(adata_tmp) > 0:\n",
    "        sc.pl.umap(adata_tmp, color='binding_10x', s=40,\n",
    "                   ax=axes[i], show=False)\n",
    "    if i != 1:\n",
    "        axes[i].legend().remove()\n",
    "    axes[i].set_ylabel(None)\n",
    "    axes[i].set_title(c)\n",
    "    axes[i].set_xlabel(None)\n",
    "\n",
    "plt.tight_layout()\n",
    "plt.savefig(f'{path_figs}/specificity_donor_10x.pdf', \n",
    "            bbox_inches='tight', dpi=300,)\n",
    "plt.show()"
   ]
  },
  {
   "cell_type": "code",
   "execution_count": null,
   "id": "9c8bc55c",
   "metadata": {},
   "outputs": [],
   "source": [
    "ncols = 2\n",
    "nrows = 3\n",
    "fig, axes = plt.subplots(nrows=nrows, ncols=ncols, figsize=(ncols * 3.5, nrows * 3))\n",
    "axes = axes.reshape(-1)\n",
    "\n",
    "\n",
    "vmax = adata.obs[epitopes].max().max()\n",
    "for i, c in enumerate(adata.obs['donor'].value_counts().index):\n",
    "    sc.pl.umap(adata, ax=axes[i], show=False)\n",
    "    adata_tmp = adata[adata.obs['donor']==c] \n",
    "    adata_tmp = adata_tmp[adata_tmp.obs['binding_10x']=='LTDEMIAQY']\n",
    "    if len(adata_tmp) > 0:\n",
    "        sc.pl.umap(adata_tmp, color='binding_10x', s=40,\n",
    "                   ax=axes[i], show=False)\n",
    "    if i != 1:\n",
    "        axes[i].legend().remove()\n",
    "    axes[i].set_ylabel(None)\n",
    "    axes[i].set_title(c)\n",
    "    axes[i].set_xlabel(None)\n",
    "\n",
    "plt.tight_layout()\n",
    "plt.savefig(f'{path_figs}/ltd_donor_10x.pdf', \n",
    "            bbox_inches='tight', dpi=300,)\n",
    "plt.show()"
   ]
  },
  {
   "cell_type": "code",
   "execution_count": null,
   "id": "0138e1d8",
   "metadata": {},
   "outputs": [],
   "source": [
    "utils_vis.separate_umaps_by_condition(adata, 'donor', 3, 2, do_int_sort=False)"
   ]
  },
  {
   "cell_type": "code",
   "execution_count": null,
   "id": "9790faa8",
   "metadata": {},
   "outputs": [],
   "source": [
    "rcParams['figure.figsize'] = (4, 4)\n",
    "adata.obs['LTD_donor'] = 'LTD-MVP'\n",
    "adata.obs.loc[adata.obs['donor']!='MVP', 'LTD_donor'] = 'LTD-Cova'\n",
    "adata.obs.loc[adata.obs['binding_10x']!='LTDEMIAQY', 'LTD_donor'] = np.nan\n",
    "sc.pl.umap(adata, color='LTD_donor')"
   ]
  },
  {
   "cell_type": "markdown",
   "id": "d238383d",
   "metadata": {},
   "source": [
    "## LTD by donor"
   ]
  },
  {
   "cell_type": "code",
   "execution_count": null,
   "id": "fd79ef33",
   "metadata": {},
   "outputs": [],
   "source": [
    "fig, ax = plt.subplots(figsize=(5, 5))\n",
    "sc.pl.umap(adata, show=False, ax=ax)\n",
    "sc.pl.umap(adata[adata.obs[binding_mode]!='No binding'], color='binding_ct', show=False, ax=ax,\n",
    "          s=50)\n",
    "plt.tight_layout()\n",
    "plt.show()"
   ]
  },
  {
   "cell_type": "code",
   "execution_count": null,
   "id": "9fca9c58",
   "metadata": {},
   "outputs": [],
   "source": [
    "fig, ax = plt.subplots(figsize=(5, 5))\n",
    "sc.pl.umap(adata, show=False, ax=ax)\n",
    "sc.pl.umap(adata[adata.obs[binding_mode]=='LTDEMIAQY'], color='donor', show=False, ax=ax,\n",
    "          s=50)\n",
    "ax.set_title(f'LTD by donor {binding_mode}')\n",
    "plt.tight_layout()\n",
    "plt.savefig(f'../../figures/mvp/manuscript/{adata.uns[\"celltype\"]}_umap_ltd.pdf', \n",
    "            bbox_inches='tight', dpi=dpi)\n",
    "plt.show()"
   ]
  },
  {
   "cell_type": "code",
   "execution_count": null,
   "id": "b5a57869",
   "metadata": {},
   "outputs": [],
   "source": [
    "fig, ax = plt.subplots(figsize=(6, 6))\n",
    "df_tmp = adata[(adata.obs[binding_mode]=='LTDEMIAQY')\n",
    "              & (adata.obs['clone_id']!='nan')].obs[['donor', 'clone_id']]\n",
    "df_tmp = df_tmp.groupby('donor')['clone_id'].value_counts().unstack().fillna(0)\n",
    "\n",
    "# Ordering the df\n",
    "stack_order = df_tmp.sum(axis=0).sort_values(ascending=False).index\n",
    "df_tmp = df_tmp[stack_order]\n",
    "donor_order = df_tmp.sum(axis=1).sort_values().index\n",
    "df_tmp = df_tmp.loc[donor_order]\n",
    "\n",
    "\n",
    "df_tmp.plot(kind='bar', stacked=True,# color=adata.uns['leiden_colors'], \n",
    "            ax=ax)\n",
    "\n",
    "n_cts_by_donor = (df_tmp>0).sum(axis=1)\n",
    "for i, (donor, n) in enumerate(n_cts_by_donor.items()):\n",
    "    ax.text((i+0.5)/len(n_cts_by_donor), 1, f'n={n}', ha='center', \n",
    "            transform=ax.transAxes)\n",
    "\n",
    "\n",
    "ax.legend().remove()\n",
    "sb.despine(ax=ax)\n",
    "ax.grid(False)\n",
    "ax.set_ylabel('# Cells')\n",
    "plt.tight_layout()\n",
    "plt.savefig(f'../../figures/mvp/manuscript/{adata.uns[\"celltype\"]}_ltd_clone_expansion.pdf', \n",
    "            bbox_inches='tight', dpi=dpi)\n",
    "plt.show()"
   ]
  },
  {
   "cell_type": "code",
   "execution_count": null,
   "id": "67f1a0ec",
   "metadata": {},
   "outputs": [],
   "source": [
    "fig, ax = plt.subplots(figsize=(6, 6))\n",
    "df_tmp = adata[(adata.obs[binding_mode]=='LTDEMIAQY')\n",
    "              & (adata.obs['clone_id']!='nan')].obs[['donor', 'clone_id']]\n",
    "df_tmp = df_tmp.groupby('donor')['clone_id'].value_counts().unstack().fillna(0)\n",
    "\n",
    "# Ordering the df\n",
    "stack_order = df_tmp.max(axis=0).sort_values(ascending=False).index\n",
    "df_tmp = df_tmp[stack_order]\n",
    "donor_order = df_tmp.sum(axis=1).sort_values().index\n",
    "df_tmp = df_tmp.loc[donor_order]\n",
    "\n",
    "\n",
    "df_tmp.plot(kind='bar', stacked=True,# color=adata.uns['leiden_colors'], \n",
    "            ax=ax)\n",
    "\n",
    "n_cts_by_donor = (df_tmp>0).sum(axis=1)\n",
    "for i, (donor, n) in enumerate(n_cts_by_donor.items()):\n",
    "    ax.text((i+0.5)/len(n_cts_by_donor), 1, f'n={n}', ha='center', \n",
    "            transform=ax.transAxes)\n",
    "\n",
    "\n",
    "ax.legend().remove()\n",
    "sb.despine(ax=ax)\n",
    "ax.grid(False)\n",
    "ax.set_ylabel('# Cells')\n",
    "plt.tight_layout()\n",
    "plt.savefig(f'../../figures/mvp/manuscript/{adata.uns[\"celltype\"]}_ltd_clone_expansion_v2.pdf', \n",
    "            bbox_inches='tight', dpi=dpi)\n",
    "plt.show()"
   ]
  },
  {
   "cell_type": "code",
   "execution_count": null,
   "id": "4eea29be",
   "metadata": {},
   "outputs": [],
   "source": [
    "fig, ax = plt.subplots(figsize=(6, 6))\n",
    "df_tmp = adata[(adata.obs[binding_mode]=='LTDEMIAQY')\n",
    "              & (adata.obs['clone_id']!='nan')].obs[['donor', 'leiden']]\n",
    "df_tmp = df_tmp.groupby('donor')['leiden'].value_counts(normalize=True).unstack().fillna(0)\n",
    "\n",
    "df_tmp = df_tmp.loc[donor_order]\n",
    "df_tmp.plot(kind='bar', stacked=True, ax=ax)\n",
    "\n",
    "ax.legend(bbox_to_anchor=(1., 0.75), title='Leiden')\n",
    "sb.despine(ax=ax)\n",
    "ax.grid(False)\n",
    "ax.set_ylabel('Fraction Leiden')\n",
    "ax.set_title('LTD-specific cells')\n",
    "plt.tight_layout()\n",
    "plt.savefig(f'../../figures/mvp/manuscript/{adata.uns[\"celltype\"]}_ltd_over_leiden.pdf', \n",
    "            bbox_inches='tight', dpi=dpi)\n",
    "plt.show()\n",
    "df_tmp.to_csv(f'../../figures/mvp/manuscript/{adata.uns[\"celltype\"]}_ltd_over_leiden_nrom.csv')"
   ]
  },
  {
   "cell_type": "markdown",
   "id": "af65692e",
   "metadata": {},
   "source": [
    "## Pseudotime"
   ]
  },
  {
   "cell_type": "code",
   "execution_count": null,
   "id": "b96211c0",
   "metadata": {},
   "outputs": [],
   "source": [
    "fig, ax = plt.subplots(figsize=(5, 5))\n",
    "sc.pl.umap(adata, color='dpt_pseudotime', ax=ax, show=False)\n",
    "\n",
    "plt.tight_layout()\n",
    "plt.savefig(f'../../figures/mvp/manuscript/{adata.uns[\"celltype\"]}_umap_pseudotime.pdf', \n",
    "            bbox_inches='tight', dpi=dpi)\n",
    "plt.show()"
   ]
  },
  {
   "cell_type": "code",
   "execution_count": null,
   "id": "6a35061b",
   "metadata": {},
   "outputs": [],
   "source": [
    "sc.pl.violin(adata, groupby='leiden', keys='dpt_pseudotime')"
   ]
  },
  {
   "cell_type": "markdown",
   "id": "2c1aab15",
   "metadata": {},
   "source": [
    "## Genes over Pseudo-Time"
   ]
  },
  {
   "cell_type": "code",
   "execution_count": null,
   "id": "5647d78d",
   "metadata": {},
   "outputs": [],
   "source": [
    "adata_tmp = adata.copy()\n",
    "n_bins = 10\n",
    "bins = [1/n_bins * i for i in range(n_bins)]\n",
    "adata_tmp.obs['pseudotime_bins'] = np.digitize(adata_tmp.obs['dpt_pseudotime'].values, bins)\n",
    "\n",
    "count_groups = adata_tmp.obs.groupby(['binding_10x', 'pseudotime_bins', 'leiden']).size()\n",
    "\n",
    "spec_order = adata.obs['binding_10x'].value_counts().index\n",
    "\n",
    "n_rows = 3\n",
    "n_cols = 4\n",
    "fig, axes = plt.subplots(ncols=n_cols, nrows=n_rows, figsize=(n_cols * 4, n_rows * 4))\n",
    "axes = axes.reshape(-1)\n",
    "\n",
    "for j, spec in enumerate(spec_order):\n",
    "    ax = axes[j]\n",
    "    counts_ax = count_groups.loc[spec].unstack()\n",
    "    counts_ax.plot(kind='bar', stacked=True, color=adata_tmp.uns['leiden_colors'], ax=ax)\n",
    "\n",
    "    if j!=0:\n",
    "        ax.legend().remove()\n",
    "    ax.set_title(spec)\n",
    "    #ax.set_xticklabels([f'{b:.1f}' for b in bins], rotation=0)\n",
    "        \n",
    "fig.tight_layout()\n",
    "plt.show()"
   ]
  },
  {
   "cell_type": "code",
   "execution_count": null,
   "id": "ecd36f56",
   "metadata": {},
   "outputs": [],
   "source": [
    "adata_tmp = adata.copy()\n",
    "n_bins = 10\n",
    "bins = [1/n_bins * i for i in range(n_bins)]\n",
    "adata_tmp.obs['pseudotime_bins'] = np.digitize(adata_tmp.obs['dpt_pseudotime'].values, bins)\n",
    "\n",
    "for group in ['leiden', 'pseudotime_bins']:\n",
    "    count_groups = adata_tmp.obs.groupby([group, 'clone_size']).size().unstack()\n",
    "\n",
    "    log_exp_max = np.log(count_groups.columns[-1])\n",
    "    colors = {el: sb.color_palette('flare', as_cmap=True)(np.log(el)/log_exp_max) for el in count_groups.columns}\n",
    "\n",
    "\n",
    "    fig, ax = plt.subplots()\n",
    "    count_groups.plot(kind='bar', stacked=True, color=colors, ax=ax)\n",
    "    ax.legend().remove()\n",
    "\n",
    "    norm = mpl.colors.Normalize(vmin=0, vmax=log_exp_max)\n",
    "    cbar = mpl.cm.ScalarMappable(norm=norm, cmap='flare')\n",
    "    fig.colorbar(cbar, label='Log expansion')\n",
    "    ax.set_title(f'Over {group}')\n",
    "    plt.show()"
   ]
  },
  {
   "cell_type": "code",
   "execution_count": null,
   "id": "a94a0c16",
   "metadata": {},
   "outputs": [],
   "source": [
    "adata_tmp.obs['pseudotime_bins'].value_counts()"
   ]
  },
  {
   "cell_type": "markdown",
   "id": "ee9fd5c2",
   "metadata": {},
   "source": [
    "## Cite vs GEX"
   ]
  },
  {
   "cell_type": "code",
   "execution_count": null,
   "id": "b909cce2",
   "metadata": {},
   "outputs": [],
   "source": [
    "mapping_cite_gex = pd.read_excel('../../data/external/' +\n",
    "                                 'TotalSeq_C_Human_Universal_Cocktail_v1_137_Antibodies_399905_Barcodes.xlsx', skiprows=1,\n",
    "                                index_col=1)\n",
    "mapping_cite_gex = mapping_cite_gex[['Description', 'Clone', 'Barcode', 'Ensemble ID', 'Gene name']]\n",
    "mapping_cite_gex = mapping_cite_gex[~mapping_cite_gex['Gene name'].isna()]\n",
    "mapping_cite_gex['Description'] = mapping_cite_gex['Description'].str.replace('anti-human ', 'Hu.')\n",
    "dict_replace = {\n",
    "    'anti-mouse/human ': 'HuMs.',\n",
    "    'anti-human/mouse ': 'HuMs.',\n",
    "    'anti-human/mouse/rat ': 'HuMsRt.',\n",
    "    '-': '.',\n",
    "    ',': '',\n",
    "    'integrin': 'integrin.b7',\n",
    "    'FcεRIα': 'FceRIa',\n",
    "    'CD105': 'CD105_43A3',\n",
    "    'CD226': 'CD226_11A8',\n",
    "    'CD38': 'CD38_HIT2',\n",
    "    'CD20': 'CD20_2H7'\n",
    "}\n",
    "for k, v in dict_replace.items():\n",
    "    mapping_cite_gex['Description'] = mapping_cite_gex['Description'].str.replace(k, v)\n",
    "    \n",
    "mapping_cite_gex['Description'] = mapping_cite_gex['Description'].str.split().str[0]\n",
    "dict_replace = {\n",
    "    'Hu.CD4': 'Hu.CD4_RPA.T4',\n",
    "    'Hu.CD14': 'Hu.CD14_M5E2',\n",
    "    'Hu.CD45': 'Hu.CD45_HI30',\n",
    "    'Hu.Ig': 'Hu.Ig.LightChain.k',\n",
    "    'Hu.CD3': 'Hu.CD3_UCHT1',\n",
    "}\n",
    "for k, v in dict_replace.items():\n",
    "    mapping_cite_gex['Description'] = mapping_cite_gex['Description'].replace(k, v)\n",
    "print([el for el in mapping_cite_gex['Description'] if el not in adata.uns['cite_ids']])\n",
    "mapping_cite_gex = dict(mapping_cite_gex[['Description', 'Gene name']].values)\n",
    "mapping_cite_gex = {k: v.split(', ') for k, v in mapping_cite_gex.items()}\n",
    "#mapping_cite_gex"
   ]
  },
  {
   "cell_type": "code",
   "execution_count": null,
   "id": "8fecc290",
   "metadata": {},
   "outputs": [],
   "source": [
    "genes = [gene for gene_list in mapping_cite_gex.values() for gene in gene_list]\n",
    "[el for el in genes if el not in adata.var_names]"
   ]
  },
  {
   "cell_type": "code",
   "execution_count": null,
   "id": "123e04f2",
   "metadata": {},
   "outputs": [],
   "source": [
    "def jitter(vals):\n",
    "    return np.random.normal(vals, vals.max()*0.01, vals.shape)"
   ]
  },
  {
   "cell_type": "code",
   "execution_count": null,
   "id": "68078569",
   "metadata": {
    "scrolled": true
   },
   "outputs": [],
   "source": [
    "rcParams['figure.figsize'] = (5, 5)\n",
    "for cite, genes in mapping_cite_gex.items():\n",
    "    for gene in genes:\n",
    "        if gene in adata.var_names:\n",
    "            adata_tmp = adata[~adata.obs[f'clr_{cite}'].isna()]\n",
    "            x = jitter(adata_tmp.obs[f'clr_{cite}'].values)\n",
    "            y = jitter(adata_tmp[:, gene].X.A.reshape(-1))\n",
    "            #values = np.vstack([x, y])\n",
    "            #kernel = stats.gaussian_kde(values)(values)\n",
    "            plot = sb.scatterplot(x=x, y=y, s=4)\n",
    "            plot = sb.kdeplot(x=x, y=y, #c=kernel, \n",
    "                              levels=5, fill=True, alpha=0.6, cut=2,)\n",
    "            plot.set_xlabel(cite)\n",
    "            plot.set_ylabel(gene)\n",
    "            plt.savefig(f'../../figures/mvp/{adata.uns[\"celltype\"]}/citeVsGex/{cite}_vs_{gene}.png', dpi=dpi,\n",
    "                       bbox_inches='tight')\n",
    "            plt.show()"
   ]
  },
  {
   "cell_type": "markdown",
   "id": "270ad14b",
   "metadata": {},
   "source": [
    "## Story Structure Plots"
   ]
  },
  {
   "cell_type": "markdown",
   "id": "45e4e7dc",
   "metadata": {},
   "source": [
    "### Fig 2A\n",
    "Leiden clustering of Dextramer UMAP (to show phenotypic assignment)"
   ]
  },
  {
   "cell_type": "code",
   "execution_count": null,
   "id": "bb35e8c5",
   "metadata": {},
   "outputs": [],
   "source": [
    "sc.settings.vector_friendly = False\n",
    "fig, ax = plt.subplots(figsize=(5, 5))\n",
    "sc.pl.umap(adata, color='leiden', show=False, ax=ax)\n",
    "plt.savefig(f'../../figures/mvp/manuscript/{adata.uns[\"celltype\"]}_umap_leiden.pdf', \n",
    "            bbox_inches='tight', dpi=dpi)\n",
    "plt.show()"
   ]
  },
  {
   "cell_type": "markdown",
   "id": "88f87f2c",
   "metadata": {},
   "source": [
    "### Fig 2B\n",
    "Show defining genes for Leiden clusters; try dot plot (average expression, percent expression) with each gene only appearing once but expression shown across all clusters for each gene."
   ]
  },
  {
   "cell_type": "code",
   "execution_count": null,
   "id": "a2ff8842",
   "metadata": {},
   "outputs": [],
   "source": [
    "def double_histogram_dotplot(adata, n_genes, groupby='leiden', save_name=None):\n",
    "    # This Code is highjacking the parts of functions from scanpy, scipy, and matplotlib. \n",
    "    # If you re-use it, that's between you and your deity.     \n",
    "    import scipy.cluster.hierarchy as sch\n",
    "    from scipy.spatial import distance\n",
    "    \n",
    "    # Collect unique list from top 5 DEGs\n",
    "    top_genes = adata.uns[f'rank_genes_groups_{groupby}']['names'][:n_genes]\n",
    "    top_genes = top_genes.flatten().tolist()\n",
    "    top_genes = list(set([g for t in top_genes for g in t]))\n",
    "    \n",
    "    # Mean expression per cluster for gene dendrogram\n",
    "    df_genes = pd.DataFrame(data=adata[:, top_genes].X.A, columns=top_genes, index=adata.obs.index)\n",
    "    df_genes[groupby] = adata.obs[groupby]\n",
    "    df_counts = df_genes.groupby(groupby)[top_genes].mean()\n",
    "    \n",
    "    # Dendrogram without plotting\n",
    "    correlation_matrix = df_counts.corr(method='pearson')\n",
    "    correlation_condensed = distance.squareform(1 - correlation_matrix)\n",
    "    z_var = sch.linkage(correlation_condensed, method='complete')\n",
    "    dendro_info = sch.dendrogram(z_var, labels=list(top_genes), no_plot=True, \n",
    "                                 color_threshold=0, above_threshold_color='k')\n",
    "    \n",
    "    # Normal Dotplot with dummy brackets on top for extra axis\n",
    "    plot = sc.pl.rank_genes_groups_dotplot(adata, var_names=dendro_info['ivl'], dendrogram=True, show=False, \n",
    "                                       var_group_labels=[''], var_group_positions=[(4,10)], \n",
    "                                          key=f'rank_genes_groups_{groupby}')\n",
    "    \n",
    "    # Delete dummy Bracket\n",
    "    plot['gene_group_ax'].cla()\n",
    "    plot['gene_group_ax'].grid(False)\n",
    "    sb.despine(ax=plot['gene_group_ax'], bottom=True, left=True)\n",
    "    \n",
    "    # Add custom dendrogram: Scale the x-Coordinates, put it within the Group Genes axis, and rescale this axis\n",
    "    scale_factor = (len(top_genes)-0.5)/(np.array(dendro_info['icoord']).max())\n",
    "    sch._plot_dendrogram(icoords=np.array(dendro_info['icoord'])*scale_factor, dcoords=np.array(dendro_info['dcoord'])+0.03, \n",
    "                        ivl=dendro_info['ivl'],\n",
    "                        p=30, n=len(top_genes), mh=max(z_var[:, 2]),\n",
    "                       orientation='top', no_labels=True, color_list=dendro_info['color_list'], ax=plot['gene_group_ax'])\n",
    "    plot['gene_group_ax'].set_xlim([1, len(top_genes)+1])\n",
    "    pos = plot['gene_group_ax'].get_position()\n",
    "    plot['gene_group_ax'].set_position([pos.x0, pos.y0, pos.x1-pos.x0, 0.5])\n",
    "\n",
    "    # Re-adjust the labels since they were lost while plotting\n",
    "    plot['mainplot_ax'].set_xticks([el+0.5 for el in range(0, len(top_genes))])\n",
    "    plot['mainplot_ax'].set_xlim([0, len(top_genes)])\n",
    "    _ = plot['mainplot_ax'].set_xticklabels(dendro_info['ivl'])\n",
    "    \n",
    "    if save_name is not None:\n",
    "        plt.savefig(f'../../figures/mvp/manuscript/{save_name}.pdf', \n",
    "                bbox_inches='tight', dpi=dpi)\n",
    "    plt.show()\n",
    "    \n",
    "double_histogram_dotplot(adata, 5, groupby='leiden', \n",
    "                         save_name=f'{adata.uns[\"celltype\"]}_gex_degs_2dendro')\n",
    "\n",
    "fig, ax = plt.subplots(figsize=(15, 4))\n",
    "sc.pl.rank_genes_groups_dotplot(adata, n_genes=5, dendrogram=True, \n",
    "                                key=f'rank_genes_groups_leiden',\n",
    "                               ax=ax, show=False)\n",
    "plt.savefig(f'../../figures/mvp/manuscript/{adata.uns[\"celltype\"]}_gex_degs.pdf', \n",
    "                bbox_inches='tight', dpi=dpi)\n",
    "plt.show()"
   ]
  },
  {
   "cell_type": "code",
   "execution_count": null,
   "id": "3352444e",
   "metadata": {},
   "outputs": [],
   "source": [
    "adata_cite = ann.AnnData(obs=adata.obs[['leiden']], \n",
    "                         uns=adata.uns,\n",
    "                         X=adata.obs[[f'clr_{el}' for el in adata.uns['cite_ids']]])\n",
    "adata_cite.var_names = ['_'.join(el.split('_')[1:]) for el in adata_cite.var_names]\n",
    "adata_cite.X = sparse.csr_matrix(adata_cite.X)\n",
    "adata_cite.uns.pop('rank_genes_groups_leiden')\n",
    "adata_cite.uns['rank_genes_groups_leiden'] = adata_cite.uns.pop('rank_genes_groups_leiden_cite')\n",
    "\n",
    "double_histogram_dotplot(adata_cite, 5, groupby='leiden', \n",
    "                        save_name=f'{adata.uns[\"celltype\"]}_cite_degs_2dendro')\n",
    "\n",
    "fig, ax = plt.subplots(figsize=(15, 4))\n",
    "sc.pl.rank_genes_groups_dotplot(adata_cite, n_genes=5, dendrogram=True, \n",
    "                                key=f'rank_genes_groups_leiden',\n",
    "                                ax=ax, show=False)\n",
    "plt.savefig(f'../../figures/mvp/manuscript/{adata.uns[\"celltype\"]}_cite_degs.pdf', \n",
    "                bbox_inches='tight', dpi=dpi)\n",
    "plt.show()"
   ]
  },
  {
   "cell_type": "markdown",
   "id": "238dd65a",
   "metadata": {},
   "source": [
    "### Fig 2C\n",
    "Showcases of epitope specificities: UMAP with evolution of population over time (as above, take UMAP from all epitope specificities and non-binders from all donors and time points as basis and then highlight only specific data: here highlight one epitope specificity and create a different UMAP for each time point, but merge data for all donors).\n"
   ]
  },
  {
   "cell_type": "code",
   "execution_count": null,
   "id": "db4e86a9",
   "metadata": {
    "scrolled": false
   },
   "outputs": [],
   "source": [
    "n_rows = 4\n",
    "n_cols = 4\n",
    "fig, axes = plt.subplots(ncols=n_cols, nrows=n_rows, figsize=(n_cols * 3, n_rows * 3))\n",
    "axes = axes.reshape(-1)\n",
    "\n",
    "colors = dict(zip(adata.obs['leiden'].value_counts().index.astype(str), adata.uns['leiden_colors']))\n",
    "\n",
    "for i, ep in enumerate(adata.uns['epitopes']):\n",
    "    ax = axes[i]\n",
    "\n",
    "    sc.pl.umap(adata, ax=ax, show=False)\n",
    "\n",
    "    cts_ep = adata[adata.obs[binding_mode]==ep]\n",
    "    cts_ep = cts_ep.obs['clone_id'].unique().tolist()\n",
    "    if 'nan' in cts_ep:\n",
    "        cts_ep.remove('nan')\n",
    "\n",
    "    adata_tmp = adata[adata.obs['clone_id'].isin(cts_ep)]\n",
    "    if len(adata_tmp) > 0:\n",
    "        sc.pl.umap(adata_tmp,\n",
    "                   color='leiden',\n",
    "                   palette=colors, \n",
    "                   size=30,\n",
    "                   ax=ax, show=False)\n",
    "        axes[i].get_legend().remove()\n",
    "\n",
    "    ax.set_ylabel('')\n",
    "    ax.set_xlabel('')\n",
    "    ax.set_title(ep)\n",
    "\n",
    "fig.tight_layout()\n",
    "#plt.savefig('../../figures/dextramer/paper/2c_umap_binders_by_epitope+time.pdf', dpi=dpi)\n",
    "plt.show()"
   ]
  },
  {
   "cell_type": "markdown",
   "id": "41335615",
   "metadata": {},
   "source": [
    "### Fig 2D\n",
    "Quantifications: Phenotype (Leiden cluster fraction) of different epitope specificities over time"
   ]
  },
  {
   "cell_type": "code",
   "execution_count": null,
   "id": "b307e4fd",
   "metadata": {},
   "outputs": [],
   "source": [
    "dfs_binding_by_leiden = {}\n",
    "\n",
    "for ep in adata.uns['epitopes']:\n",
    "    cts_ep = adata[adata.obs[binding_mode]==ep]\n",
    "    cts_ep = cts_ep.obs['clone_id'].unique().tolist()\n",
    "    if 'nan' in cts_ep:\n",
    "        cts_ep.remove('nan')\n",
    "    \n",
    "    df_tmp = adata[adata.obs['clone_id'].isin(cts_ep)].obs[['leiden', 'donor']] \n",
    "    df_tmp = df_tmp.value_counts().unstack()\n",
    "    df_tmp.columns = df_tmp.columns.astype(str)\n",
    "    \n",
    "    df_tmp = df_tmp.fillna(0)\n",
    "    \n",
    "    \n",
    "    for s in adata.obs['donor'].unique():\n",
    "        if s not in df_tmp.columns:\n",
    "            df_tmp[s] = 0.\n",
    "    #df_tmp = df_tmp[time_order]\n",
    "    for l in adata.obs['leiden'].unique():\n",
    "        if l not in df_tmp.index:\n",
    "            df_tmp.loc[len(df_tmp)] = 0.\n",
    "    df_tmp.index = df_tmp.index.astype(int)\n",
    "    df_tmp = df_tmp.sort_index()\n",
    "               \n",
    "    df_tmp = df_tmp.transpose()\n",
    "    df_tmp = df_tmp.div(df_tmp.sum(axis=1), axis=0)\n",
    "    df_tmp = df_tmp.fillna(0) \n",
    "    dfs_binding_by_leiden[ep] = df_tmp"
   ]
  },
  {
   "cell_type": "code",
   "execution_count": null,
   "id": "51ec3c02",
   "metadata": {
    "scrolled": false
   },
   "outputs": [],
   "source": [
    "n_rows = 4\n",
    "n_cols = 4\n",
    "fig, axes = plt.subplots(ncols=n_cols, nrows=n_rows, figsize=(n_cols * 3, n_rows * 3))\n",
    "axes = axes.reshape(-1)\n",
    "\n",
    "colors = dict(zip(adata.obs['leiden'].value_counts().index.astype(int), adata.uns['leiden_colors']))\n",
    "\n",
    "for (i, ax), (ep, df_fracs) in zip(enumerate(axes), dfs_binding_by_leiden.items()):\n",
    "    plot = df_fracs.plot(kind='bar', stacked=True,  ax=ax, ylim=[0, 1], color=colors,\n",
    "                        title=ep, xlabel='')\n",
    "    \n",
    "    if i==3:\n",
    "        handles, labels = ax.get_legend_handles_labels()\n",
    "        label_dict = dict(zip(labels, handles))\n",
    "        ax.legend(label_dict,\n",
    "                  markerscale=0.5, #fontsize='x-small', \n",
    "                  #ncol=len(df_fracs.columns)//2, \n",
    "                  loc='right', \n",
    "                  bbox_to_anchor=(1.3, .5),\n",
    "                  frameon=False)\n",
    "    else:\n",
    "        ax.get_legend().remove()\n",
    "    ax.tick_params(axis='x', labelrotation=90)\n",
    "    ax.grid(False)\n",
    "    ax.spines['top'].set_visible(False)\n",
    "    ax.spines['right'].set_visible(False)\n",
    "    \n",
    "for j in range(i+1, n_cols*n_rows):\n",
    "    axes[j].axis('off')\n",
    "    \n",
    "fig.tight_layout()\n",
    "#plt.savefig('../../figures/dextramer/paper/2d_leiden_over_time_per_specificity.pdf', dpi=dpi)\n",
    "plt.show()\n"
   ]
  },
  {
   "cell_type": "markdown",
   "id": "e0cd3e92",
   "metadata": {},
   "source": [
    "### Fig 2E alternative\n",
    "Show UMAP with clonal expansion."
   ]
  },
  {
   "cell_type": "code",
   "execution_count": null,
   "id": "9753d224",
   "metadata": {},
   "outputs": [],
   "source": [
    "sc.pl.umap(adata, color='clone_size')"
   ]
  },
  {
   "cell_type": "code",
   "execution_count": null,
   "id": "ef7dfec1",
   "metadata": {},
   "outputs": [],
   "source": [
    "sc.pl.umap(adata, color='clone_size_clipped')"
   ]
  },
  {
   "cell_type": "markdown",
   "id": "8c43017c",
   "metadata": {},
   "source": [
    "### Fig 2E\n",
    "Show UMAP with pseudotime trajectory (starting point to be specified). Then show for each time point and epitope specificity a separate graph (like a histogram) with pseudotime on the x-axis and number of cells on the y-axis, with a color barcode for phenotypic clusters."
   ]
  },
  {
   "cell_type": "code",
   "execution_count": null,
   "id": "487f38a5",
   "metadata": {
    "scrolled": true
   },
   "outputs": [],
   "source": [
    "sc.pl.umap(adata, color='dpt_pseudotime')"
   ]
  },
  {
   "cell_type": "code",
   "execution_count": null,
   "id": "8712d0fa",
   "metadata": {},
   "outputs": [],
   "source": [
    "epitopes_present = adata.obs[binding_mode].value_counts().index\n",
    "n_cols = len(epitopes_present)\n",
    "n_rows = len(adata.obs['donor'].unique())\n",
    "fig, axes = plt.subplots(ncols=n_cols, nrows=n_rows, figsize=(n_cols * 3, n_rows * 3))\n",
    "\n",
    "colors = dict(zip(adata.obs['leiden'].value_counts().index, adata.uns['leiden_colors']))\n",
    "\n",
    "\n",
    "step_width = 0.1\n",
    "adata.obs['pseudotime_bin'] = adata.obs['dpt_pseudotime'].apply(lambda x: x//step_width)\n",
    "bin_order = sorted(adata.obs['pseudotime_bin'].unique().tolist())\n",
    "\n",
    "for j, d in enumerate(adata.obs['donor'].unique()):\n",
    "    for i, ep in enumerate(epitopes_present):\n",
    "        ax = axes[j][i]\n",
    "        \n",
    "        df_counts = adata[(adata.obs[binding_mode]==ep) & \n",
    "                          (adata.obs['donor']==d) &\n",
    "                          (~adata.obs['pseudotime_bin'].isna())]\n",
    "        df_counts = df_counts.obs[['pseudotime_bin', 'leiden']].copy()\n",
    "        if len(df_counts) > 0:\n",
    "            df_counts = df_counts.groupby('pseudotime_bin')['leiden'].value_counts().unstack(fill_value=0)\n",
    "            \n",
    "            df_counts.columns = list(df_counts.columns)\n",
    "            for l in adata.obs['leiden'].unique():\n",
    "                if l not in df_counts.columns:\n",
    "                    df_counts[l] = 0\n",
    "            for bins in adata.obs['pseudotime_bin'].unique():\n",
    "                if bins not in df_counts.index:\n",
    "                    df_counts.loc[bins] = 0                    \n",
    "            df_counts = df_counts.sort_index()\n",
    "            \n",
    "            df_counts.plot(kind='bar', stacked='True', ax=ax, color=colors)\n",
    "            sb.despine(ax=ax)\n",
    "            ax.grid(axis='x')\n",
    "            ax.get_legend().remove()\n",
    "            \n",
    "        else:\n",
    "            ax.grid(False)\n",
    "            sb.despine(ax=ax, left=True)\n",
    "            ax.set_yticklabels([])\n",
    "            ax.set_xticks(range(0, 10))\n",
    "        \n",
    "        ax.set_ylabel(None)\n",
    "        ax.set_xlabel(None)\n",
    "        ax.set_title(None)    \n",
    "        #ax.set_xticklabels([])\n",
    "    \n",
    "xticks = [f'- {el:.1f}' for el in (step_width + np.arange(0, 1, step_width))]\n",
    "for j, e in enumerate(epitopes_present):   \n",
    "    axes[0][j].set_title(e)\n",
    "    #axes[-1][j].set_xticklabels(xticks, rotation=90)\n",
    "for i, d in enumerate(adata.obs['donor'].unique()):\n",
    "    axes[i][0].set_ylabel(d)    \n",
    " \n",
    "fig.tight_layout()\n",
    "#plt.savefig('../../figures/dextramer/paper/2e_pseudotime_by_time_specificity.pdf', dpi=dpi)\n",
    "plt.show()"
   ]
  },
  {
   "cell_type": "markdown",
   "id": "88f9f1bb",
   "metadata": {},
   "source": [
    "### Fig 2F\n",
    "Diversity of repertoires over time (Gini and inverse Simpson index as in Bacher et al. for evenness and richness, respectively); once for each time point and all phenotypic clusters pooled; once for each phenotypic cluster and all time points pooled. Once for each time point and phenotypic cluster. Everything once for all donors pooled and once for each donor (only for YLQ and LTD and only for donors with cognate HLA for these epitopes)."
   ]
  },
  {
   "cell_type": "code",
   "execution_count": null,
   "id": "7929993f",
   "metadata": {},
   "outputs": [],
   "source": [
    "print(len(adata))\n",
    "adata_diversity = adata[adata.obs['clone_id']!='nan']\n",
    "print(len(adata_diversity))"
   ]
  },
  {
   "cell_type": "code",
   "execution_count": null,
   "id": "6aa12a02",
   "metadata": {},
   "outputs": [],
   "source": [
    "def gini(*args, **kwargs):\n",
    "    # Needed to write a wrapper passable to scirpy, since skbio standardly uses rectangular estimation\n",
    "    # This leads to negative Ginis for cases where all cts are distributed equally.\n",
    "    return skbio.diversity.alpha.gini_index(*args, **kwargs, method='trapezoids')\n",
    "\n",
    "\n",
    "def inverse_simpson(*args, **kwargs):\n",
    "    # Bacher et all report inverse simpson\n",
    "    val = 1 - skbio.diversity.alpha.simpson(*args, **kwargs)\n",
    "    return 1 / val"
   ]
  },
  {
   "cell_type": "code",
   "execution_count": null,
   "id": "ecc1968c",
   "metadata": {
    "scrolled": true
   },
   "outputs": [],
   "source": [
    "def plot_diversity(adata_tmp, condition, metric='gini_index', title_suffix='', plot_type=None, ax=None):\n",
    "    if condition == binding_mode:\n",
    "        adata_tmp = adata_tmp[~adata_tmp.obs[binding_mode].isna()]\n",
    "    diversity = ir.tl.alpha_diversity(adata_tmp, groupby=condition, target_col='clone_id', metric=metric, \n",
    "                                      inplace=False)\n",
    "    metric_name = metric if type(metric)==str else metric.__name__\n",
    "    diversity = diversity.rename(columns={0: metric_name})\n",
    "    diversity[condition] = diversity.index\n",
    "    if plot_type:\n",
    "        plot = plot_type(data=diversity, x=condition, y=metric_name, ax=ax)\n",
    "        plot.set_title(f'{title_suffix} Diversity over {condition}')\n",
    "        if not ax:\n",
    "            plt.show()\n",
    "        if condition == binding_mode:\n",
    "            ax.set_xticklabels(ax.get_xticklabels(), rotation=90)\n",
    "    return diversity\n",
    "\n",
    "\n",
    "adata_diversity = adata[~adata.obs['clone_id'].isna()]\n",
    "adata_diversity = adata_diversity[adata_diversity.obs['clone_id']!='nan']\n",
    "adata_div_spec = adata_diversity[~adata_diversity.obs[binding_mode].isna()]\n",
    "adatas =  [('All cells -', adata_diversity), ('Specific cells -', adata_div_spec)]\n",
    "conditions = [('donor', sb.barplot), ('leiden', sb.barplot), (binding_mode, sb.barplot)]\n",
    "\n",
    "for metric in [gini, 'simpson', inverse_simpson]:\n",
    "    \n",
    "    n_rows = len(adatas)\n",
    "    n_cols = len(conditions)\n",
    "    fig, axes = plt.subplots(ncols=n_cols, nrows=n_rows, figsize=(n_cols * 5, n_rows * 5))\n",
    "    \n",
    "    for i, (title, adata_tmp) in enumerate(adatas):\n",
    "        for j, (condition, plot_type) in enumerate(conditions):\n",
    "            plot_diversity(adata_tmp, condition, metric, title_suffix=title, plot_type=plot_type, ax=axes[i][j])\n",
    "    \n",
    "    plt.tight_layout()\n",
    "    plt.show()"
   ]
  },
  {
   "cell_type": "code",
   "execution_count": null,
   "id": "354e18de",
   "metadata": {},
   "outputs": [],
   "source": [
    "adata.obs['binding_10x'].value_counts()"
   ]
  },
  {
   "cell_type": "code",
   "execution_count": null,
   "id": "c2b7c77d",
   "metadata": {},
   "outputs": [],
   "source": [
    "fig, ax = plt.subplots(figsize=(6, 6))\n",
    "adata_tmp = adata[~adata.obs['clone_id'].isna()]\n",
    "adata_tmp = adata_tmp[adata_tmp.obs['clone_id']!='nan']\n",
    "adata_tmp = adata_tmp[adata_tmp.obs[binding_mode]=='LTDEMIAQY']\n",
    "div_ltd = plot_diversity(adata_tmp, 'donor', gini, title_suffix='Diversity', plot_type=sb.barplot, ax=ax)\n",
    "div_ltd.to_csv(f'../../figures/mvp/manuscript/{adata.uns[\"celltype\"]}_diversity_gini_ltd.csv')\n",
    "plt.tight_layout()\n",
    "plt.show()"
   ]
  },
  {
   "cell_type": "code",
   "execution_count": null,
   "id": "46357778",
   "metadata": {},
   "outputs": [],
   "source": [
    "for metric in ['gini_index', 'simpson']: \n",
    "    n_rows = len(adatas)\n",
    "    n_cols = len(conditions)\n",
    "    fig, axes = plt.subplots(ncols=n_cols, nrows=n_rows, figsize=(n_cols * 5, n_rows * 5))\n",
    "    \n",
    "    for i, (title, adata_tmp) in enumerate(adatas):\n",
    "        for j, (condition, plot_type) in enumerate(conditions):\n",
    "            counts = adata_tmp.obs.groupby(condition)['clone_id'].nunique().reset_index()\n",
    "            sb.barplot(data=counts, y='clone_id', x=condition, ax=axes[i][j])\n",
    "            if condition==binding_mode:\n",
    "                axes[i][j].set_xticklabels(axes[i][j].get_xticklabels(), rotation=90)\n",
    "    \n",
    "    plt.tight_layout()\n",
    "    plt.show()"
   ]
  },
  {
   "cell_type": "markdown",
   "id": "13a499f0",
   "metadata": {},
   "source": [
    "## Supplementary 2"
   ]
  },
  {
   "cell_type": "markdown",
   "id": "e361469b",
   "metadata": {},
   "source": [
    "### Supp 2A\n",
    "UMAPs with epitope specificity assignment"
   ]
  },
  {
   "cell_type": "code",
   "execution_count": null,
   "id": "1c4d3898",
   "metadata": {},
   "outputs": [],
   "source": [
    "ax = sc.pl.umap(adata, show=False)\n",
    "ax = sc.pl.umap(adata[~adata.obs[binding_mode].isna()], color=binding_mode, show=False, ax=ax, size=15)\n",
    "#plt.savefig(f'{path_figs}/paper/S2a_umap_binding.pdf', bbox_inches='tight', dpi=dpi)"
   ]
  },
  {
   "cell_type": "markdown",
   "id": "17daab23",
   "metadata": {},
   "source": [
    "### Supp 2C \n",
    "Show UMAP with IFN score (IFN_seumois) and MKI67; potentially also show other genes (depending on DEG results) such as TCF7, etc."
   ]
  },
  {
   "cell_type": "code",
   "execution_count": null,
   "id": "c7d7741b",
   "metadata": {},
   "outputs": [],
   "source": [
    "sc.pl.umap(adata, color=['ifn_seumois', 'MKI67'], show=False, use_raw=False, cmap=colormap)\n",
    "#plt.savefig(f'{path_figs}/paper/S2c_umaps_scores_genes.pdf', bbox_inches='tight', dpi=dpi)"
   ]
  },
  {
   "cell_type": "markdown",
   "id": "e4b15b96",
   "metadata": {},
   "source": [
    "### Supp 2E \n",
    "Show pseudotime graphs with pseudotime on the x-axis and specific genes (to be specified, see point above) on the y-axis, with a color barcode for phenotypic clusters."
   ]
  },
  {
   "cell_type": "code",
   "execution_count": null,
   "id": "0fb06e96",
   "metadata": {},
   "outputs": [],
   "source": [
    "genes = ['ifn_seumois', 'MKI67', 'TCF7']\n",
    "for gene in genes:\n",
    "    sc.pl.scatter(adata, x='dpt_pseudotime', y=gene, color='leiden', size=15)"
   ]
  },
  {
   "cell_type": "code",
   "execution_count": null,
   "id": "46370ba3",
   "metadata": {},
   "outputs": [],
   "source": []
  },
  {
   "cell_type": "code",
   "execution_count": null,
   "id": "6bb23678",
   "metadata": {},
   "outputs": [],
   "source": []
  }
 ],
 "metadata": {
  "kernelspec": {
   "display_name": "Python [conda env:covidVac]",
   "language": "python",
   "name": "conda-env-covidVac-py"
  },
  "language_info": {
   "codemirror_mode": {
    "name": "ipython",
    "version": 3
   },
   "file_extension": ".py",
   "mimetype": "text/x-python",
   "name": "python",
   "nbconvert_exporter": "python",
   "pygments_lexer": "ipython3",
   "version": "3.7.1"
  }
 },
 "nbformat": 4,
 "nbformat_minor": 5
}
